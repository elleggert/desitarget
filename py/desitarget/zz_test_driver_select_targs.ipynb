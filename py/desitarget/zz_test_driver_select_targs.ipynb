{
 "cells": [
  {
   "cell_type": "code",
   "execution_count": 1,
   "metadata": {
    "collapsed": true
   },
   "outputs": [],
   "source": [
    "from cuts import select_targets\n",
    "import pandas as pd\n",
    "import os\n",
    "\n"
   ]
  },
  {
   "cell_type": "code",
   "execution_count": 2,
   "outputs": [
    {
     "name": "stdout",
     "output_type": "stream",
     "text": [
      "2\n"
     ]
    }
   ],
   "source": [
    "\n",
    "filenames = []\n",
    "\n",
    "#path = f'/Volumes/{device}/bricks_data/{area}/'\n",
    "path = '../../../bricks_data/tractor/'\n",
    "\n",
    "for filename in os.listdir(path):\n",
    "    if '.fits' not in filename:\n",
    "        continue\n",
    "    filenames.append(f'{path}/{filename}')\n",
    "print(len(filenames))"
   ],
   "metadata": {
    "collapsed": false,
    "pycharm": {
     "name": "#%%\n"
    }
   }
  },
  {
   "cell_type": "code",
   "execution_count": 3,
   "outputs": [
    {
     "name": "stdout",
     "output_type": "stream",
     "text": [
      "INFO:cuts.py:3031:select_targets: Running on the main survey\n"
     ]
    }
   ],
   "source": [
    "res = select_targets(\n",
    "    infiles=filenames, numproc=1, qso_selection='colorcuts', nside=None, gaiasub=False,\n",
    "    tcnames=['LRG', 'ELG', 'QSO'], backup=False)\n"
   ],
   "metadata": {
    "collapsed": false,
    "pycharm": {
     "name": "#%%\n"
    }
   }
  },
  {
   "cell_type": "code",
   "execution_count": 4,
   "outputs": [
    {
     "name": "stdout",
     "output_type": "stream",
     "text": [
      "421\n"
     ]
    }
   ],
   "source": [
    "print(len(res))\n"
   ],
   "metadata": {
    "collapsed": false,
    "pycharm": {
     "name": "#%%\n"
    }
   }
  },
  {
   "cell_type": "code",
   "execution_count": 5,
   "outputs": [
    {
     "data": {
      "text/plain": "   RELEASE  BRICKID    BRICKNAME  BRICK_OBJID MORPHTYPE        RA  \\\n0     9010   328928  b'0001m002'            3    b'EXP'  0.000026   \n1     9010   328928  b'0001m002'           51    b'PSF'  0.001580   \n2     9010   328928  b'0001m002'           54    b'EXP'  0.001659   \n3     9010   328928  b'0001m002'           72    b'REX'  0.002393   \n4     9010   328928  b'0001m002'           88    b'REX'  0.002683   \n\n        RA_IVAR       DEC      DEC_IVAR  \\\n0  5.331747e+11 -0.276482  2.696239e+11   \n1  6.322904e+10 -0.160687  5.938039e+10   \n2  2.344931e+10 -0.317855  3.586739e+10   \n3  3.173456e+11 -0.302903  3.103398e+11   \n4  3.782714e+10 -0.251044  3.638684e+10   \n\n                                              DCHISQ  ...  BGS_TARGET  \\\n0  [16063.554, 19630.223, 20872.037, 21205.998, 2...  ...           0   \n1    [2155.2517, 2155.568, 2155.598, 2155.6316, 0.0]  ...           0   \n2  [1569.8242, 1705.4795, 1733.5865, 1736.2299, 1...  ...           0   \n3   [11208.628, 11669.05, 11704.011, 11686.297, 0.0]  ...           0   \n4  [1316.2264, 1373.4199, 1373.7294, 1376.2058, 0.0]  ...           0   \n\n   MWS_TARGET  SUBPRIORITY  OBSCONDITIONS  PRIORITY_INIT_DARK  \\\n0           0          0.0              1                3200   \n1           0          0.0              1                3100   \n2           0          0.0              1                3000   \n3           0          0.0              1                3200   \n4           0          0.0              1                3100   \n\n   NUMOBS_INIT_DARK  PRIORITY_INIT_BRIGHT  NUMOBS_INIT_BRIGHT  \\\n0                 2                    -1                  -1   \n1                 2                    -1                  -1   \n2                 2                    -1                  -1   \n3                 2                    -1                  -1   \n4                 2                    -1                  -1   \n\n   PRIORITY_INIT_BACKUP  NUMOBS_INIT_BACKUP  \n0                    -1                  -1  \n1                    -1                  -1  \n2                    -1                  -1  \n3                    -1                  -1  \n4                    -1                  -1  \n\n[5 rows x 111 columns]",
      "text/html": "<div>\n<style scoped>\n    .dataframe tbody tr th:only-of-type {\n        vertical-align: middle;\n    }\n\n    .dataframe tbody tr th {\n        vertical-align: top;\n    }\n\n    .dataframe thead th {\n        text-align: right;\n    }\n</style>\n<table border=\"1\" class=\"dataframe\">\n  <thead>\n    <tr style=\"text-align: right;\">\n      <th></th>\n      <th>RELEASE</th>\n      <th>BRICKID</th>\n      <th>BRICKNAME</th>\n      <th>BRICK_OBJID</th>\n      <th>MORPHTYPE</th>\n      <th>RA</th>\n      <th>RA_IVAR</th>\n      <th>DEC</th>\n      <th>DEC_IVAR</th>\n      <th>DCHISQ</th>\n      <th>...</th>\n      <th>BGS_TARGET</th>\n      <th>MWS_TARGET</th>\n      <th>SUBPRIORITY</th>\n      <th>OBSCONDITIONS</th>\n      <th>PRIORITY_INIT_DARK</th>\n      <th>NUMOBS_INIT_DARK</th>\n      <th>PRIORITY_INIT_BRIGHT</th>\n      <th>NUMOBS_INIT_BRIGHT</th>\n      <th>PRIORITY_INIT_BACKUP</th>\n      <th>NUMOBS_INIT_BACKUP</th>\n    </tr>\n  </thead>\n  <tbody>\n    <tr>\n      <th>0</th>\n      <td>9010</td>\n      <td>328928</td>\n      <td>b'0001m002'</td>\n      <td>3</td>\n      <td>b'EXP'</td>\n      <td>0.000026</td>\n      <td>5.331747e+11</td>\n      <td>-0.276482</td>\n      <td>2.696239e+11</td>\n      <td>[16063.554, 19630.223, 20872.037, 21205.998, 2...</td>\n      <td>...</td>\n      <td>0</td>\n      <td>0</td>\n      <td>0.0</td>\n      <td>1</td>\n      <td>3200</td>\n      <td>2</td>\n      <td>-1</td>\n      <td>-1</td>\n      <td>-1</td>\n      <td>-1</td>\n    </tr>\n    <tr>\n      <th>1</th>\n      <td>9010</td>\n      <td>328928</td>\n      <td>b'0001m002'</td>\n      <td>51</td>\n      <td>b'PSF'</td>\n      <td>0.001580</td>\n      <td>6.322904e+10</td>\n      <td>-0.160687</td>\n      <td>5.938039e+10</td>\n      <td>[2155.2517, 2155.568, 2155.598, 2155.6316, 0.0]</td>\n      <td>...</td>\n      <td>0</td>\n      <td>0</td>\n      <td>0.0</td>\n      <td>1</td>\n      <td>3100</td>\n      <td>2</td>\n      <td>-1</td>\n      <td>-1</td>\n      <td>-1</td>\n      <td>-1</td>\n    </tr>\n    <tr>\n      <th>2</th>\n      <td>9010</td>\n      <td>328928</td>\n      <td>b'0001m002'</td>\n      <td>54</td>\n      <td>b'EXP'</td>\n      <td>0.001659</td>\n      <td>2.344931e+10</td>\n      <td>-0.317855</td>\n      <td>3.586739e+10</td>\n      <td>[1569.8242, 1705.4795, 1733.5865, 1736.2299, 1...</td>\n      <td>...</td>\n      <td>0</td>\n      <td>0</td>\n      <td>0.0</td>\n      <td>1</td>\n      <td>3000</td>\n      <td>2</td>\n      <td>-1</td>\n      <td>-1</td>\n      <td>-1</td>\n      <td>-1</td>\n    </tr>\n    <tr>\n      <th>3</th>\n      <td>9010</td>\n      <td>328928</td>\n      <td>b'0001m002'</td>\n      <td>72</td>\n      <td>b'REX'</td>\n      <td>0.002393</td>\n      <td>3.173456e+11</td>\n      <td>-0.302903</td>\n      <td>3.103398e+11</td>\n      <td>[11208.628, 11669.05, 11704.011, 11686.297, 0.0]</td>\n      <td>...</td>\n      <td>0</td>\n      <td>0</td>\n      <td>0.0</td>\n      <td>1</td>\n      <td>3200</td>\n      <td>2</td>\n      <td>-1</td>\n      <td>-1</td>\n      <td>-1</td>\n      <td>-1</td>\n    </tr>\n    <tr>\n      <th>4</th>\n      <td>9010</td>\n      <td>328928</td>\n      <td>b'0001m002'</td>\n      <td>88</td>\n      <td>b'REX'</td>\n      <td>0.002683</td>\n      <td>3.782714e+10</td>\n      <td>-0.251044</td>\n      <td>3.638684e+10</td>\n      <td>[1316.2264, 1373.4199, 1373.7294, 1376.2058, 0.0]</td>\n      <td>...</td>\n      <td>0</td>\n      <td>0</td>\n      <td>0.0</td>\n      <td>1</td>\n      <td>3100</td>\n      <td>2</td>\n      <td>-1</td>\n      <td>-1</td>\n      <td>-1</td>\n      <td>-1</td>\n    </tr>\n  </tbody>\n</table>\n<p>5 rows × 111 columns</p>\n</div>"
     },
     "execution_count": 5,
     "metadata": {},
     "output_type": "execute_result"
    }
   ],
   "source": [
    "\n",
    "columns = []\n",
    "\n",
    "# Check for later --> is overhead of converting to PD needed? Could go via Recarray immediately, ask Boris whether a CSV is needed\n",
    "# Pipeline to go is: Run select_targets, convert to DF, extract desi_target bitcode, convert.\n",
    "# Add cuts for Lyman Beak Galaxies, dropouts\n",
    "# Extract SNRG --> ask Boris how\n",
    "cols = [('RELEASE', '>i2'), ('BRICKID', '>i4'), ('BRICKNAME', 'S8'), ('BRICK_OBJID', '>i4'), ('MORPHTYPE', 'S4'), ('RA', '>f8'), ('RA_IVAR', '>f4'), ('DEC', '>f8'), ('DEC_IVAR', '>f4'), ('DCHISQ', '>f4', (5,)), ('EBV', '>f4'), ('FLUX_G', '>f4'), ('FLUX_R', '>f4'), ('FLUX_Z', '>f4'), ('FLUX_IVAR_G', '>f4'), ('FLUX_IVAR_R', '>f4'), ('FLUX_IVAR_Z', '>f4'), ('MW_TRANSMISSION_G', '>f4'), ('MW_TRANSMISSION_R', '>f4'), ('MW_TRANSMISSION_Z', '>f4'), ('FRACFLUX_G', '>f4'), ('FRACFLUX_R', '>f4'), ('FRACFLUX_Z', '>f4'), ('FRACMASKED_G', '>f4'), ('FRACMASKED_R', '>f4'), ('FRACMASKED_Z', '>f4'), ('FRACIN_G', '>f4'), ('FRACIN_R', '>f4'), ('FRACIN_Z', '>f4'), ('NOBS_G', '>i2'), ('NOBS_R', '>i2'), ('NOBS_Z', '>i2'), ('PSFDEPTH_G', '>f4'), ('PSFDEPTH_R', '>f4'), ('PSFDEPTH_Z', '>f4'), ('GALDEPTH_G', '>f4'), ('GALDEPTH_R', '>f4'), ('GALDEPTH_Z', '>f4'), ('FLUX_W1', '>f4'), ('FLUX_W2', '>f4'), ('FLUX_W3', '>f4'), ('FLUX_W4', '>f4'), ('FLUX_IVAR_W1', '>f4'), ('FLUX_IVAR_W2', '>f4'), ('FLUX_IVAR_W3', '>f4'), ('FLUX_IVAR_W4', '>f4'), ('MW_TRANSMISSION_W1', '>f4'), ('MW_TRANSMISSION_W2', '>f4'), ('MW_TRANSMISSION_W3', '>f4'), ('MW_TRANSMISSION_W4', '>f4'), ('ALLMASK_G', '>i2'), ('ALLMASK_R', '>i2'), ('ALLMASK_Z', '>i2'), ('FIBERFLUX_G', '>f4'), ('FIBERFLUX_R', '>f4'), ('FIBERFLUX_Z', '>f4'), ('FIBERTOTFLUX_G', '>f4'), ('FIBERTOTFLUX_R', '>f4'), ('FIBERTOTFLUX_Z', '>f4'), ('REF_EPOCH', '>f4'), ('WISEMASK_W1', 'u1'), ('WISEMASK_W2', 'u1'), ('MASKBITS', '>i2'), ('LC_FLUX_W1', '>f4', (15,)), ('LC_FLUX_W2', '>f4', (15,)), ('LC_FLUX_IVAR_W1', '>f4', (15,)), ('LC_FLUX_IVAR_W2', '>f4', (15,)), ('LC_NOBS_W1', '>i2', (15,)), ('LC_NOBS_W2', '>i2', (15,)), ('LC_MJD_W1', '>f8', (15,)), ('LC_MJD_W2', '>f8', (15,)), ('SHAPE_R', '>f4'), ('SHAPE_E1', '>f4'), ('SHAPE_E2', '>f4'), ('SHAPE_R_IVAR', '>f4'), ('SHAPE_E1_IVAR', '>f4'), ('SHAPE_E2_IVAR', '>f4'), ('SERSIC', '>f4'), ('SERSIC_IVAR', '>f4'), ('REF_ID', '>i8'), ('REF_CAT', 'S2'), ('GAIA_PHOT_G_MEAN_MAG', '>f4'), ('GAIA_PHOT_G_MEAN_FLUX_OVER_ERROR', '>f4'), ('GAIA_PHOT_BP_MEAN_MAG', '>f4'), ('GAIA_PHOT_BP_MEAN_FLUX_OVER_ERROR', '>f4'), ('GAIA_PHOT_RP_MEAN_MAG', '>f4'), ('GAIA_PHOT_RP_MEAN_FLUX_OVER_ERROR', '>f4'), ('GAIA_PHOT_BP_RP_EXCESS_FACTOR', '>f4'), ('GAIA_ASTROMETRIC_EXCESS_NOISE', '>f4'), ('GAIA_DUPLICATED_SOURCE', '?'), ('GAIA_ASTROMETRIC_SIGMA5D_MAX', '>f4'), ('GAIA_ASTROMETRIC_PARAMS_SOLVED', 'i1'), ('PARALLAX', '>f4'), ('PARALLAX_IVAR', '>f4'), ('PMRA', '>f4'), ('PMRA_IVAR', '>f4'), ('PMDEC', '>f4'), ('PMDEC_IVAR', '>f4'), ('PHOTSYS', '<U1'), ('TARGETID', '>i8'), ('DESI_TARGET', '>i8'), ('BGS_TARGET', '>i8'), ('MWS_TARGET', '>i8'), ('SUBPRIORITY', '>f8'), ('OBSCONDITIONS', '>i8'), ('PRIORITY_INIT_DARK', '>i8'), ('NUMOBS_INIT_DARK', '>i8'), ('PRIORITY_INIT_BRIGHT', '>i8'), ('NUMOBS_INIT_BRIGHT', '>i8'), ('PRIORITY_INIT_BACKUP', '>i8'), ('NUMOBS_INIT_BACKUP', '>i8')]\n",
    "\n",
    "for c in cols:\n",
    "    columns.append(c[0])\n",
    "\n",
    "\n",
    "df = pd.DataFrame.from_records(data=list(res),columns=columns )\n",
    "\n",
    "\n",
    "\"\"\"Get the Signal-to-noise in g, r, z, W1 and W2 defined as the flux per\n",
    "        band divided by sigma (flux x sqrt of the inverse variance).\n",
    "        self.snr_g = self.flux_g * np.sqrt(self.flux_ivar_g)\"\"\"\n",
    "\n",
    "df.head()"
   ],
   "metadata": {
    "collapsed": false,
    "pycharm": {
     "name": "#%%\n"
    }
   }
  },
  {
   "cell_type": "code",
   "execution_count": 10,
   "outputs": [
    {
     "data": {
      "text/plain": "421"
     },
     "execution_count": 10,
     "metadata": {},
     "output_type": "execute_result"
    }
   ],
   "source": [
    "len(df)"
   ],
   "metadata": {
    "collapsed": false,
    "pycharm": {
     "name": "#%%\n"
    }
   }
  },
  {
   "cell_type": "code",
   "execution_count": null,
   "outputs": [],
   "source": [],
   "metadata": {
    "collapsed": false,
    "pycharm": {
     "name": "#%%\n"
    }
   }
  }
 ],
 "metadata": {
  "kernelspec": {
   "display_name": "Python 3",
   "language": "python",
   "name": "python3"
  },
  "language_info": {
   "codemirror_mode": {
    "name": "ipython",
    "version": 2
   },
   "file_extension": ".py",
   "mimetype": "text/x-python",
   "name": "python",
   "nbconvert_exporter": "python",
   "pygments_lexer": "ipython2",
   "version": "2.7.6"
  }
 },
 "nbformat": 4,
 "nbformat_minor": 0
}