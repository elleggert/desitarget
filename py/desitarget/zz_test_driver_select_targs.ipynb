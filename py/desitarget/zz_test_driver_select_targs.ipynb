{
 "cells": [
  {
   "cell_type": "code",
   "execution_count": 1,
   "metadata": {
    "collapsed": true
   },
   "outputs": [],
   "source": [
    "from cuts import select_targets\n",
    "import pandas as pd\n",
    "import os\n",
    "\n"
   ]
  },
  {
   "cell_type": "code",
   "execution_count": 2,
   "outputs": [
    {
     "name": "stdout",
     "output_type": "stream",
     "text": [
      "2\n"
     ]
    }
   ],
   "source": [
    "\n",
    "filenames = []\n",
    "\n",
    "#path = f'/Volumes/{device}/bricks_data/{area}/'\n",
    "path = '../../../bricks_data/tractor/'\n",
    "\n",
    "for filename in os.listdir(path):\n",
    "    if '.fits' not in filename:\n",
    "        continue\n",
    "    filenames.append(f'{path}/{filename}')\n",
    "print(len(filenames))"
   ],
   "metadata": {
    "collapsed": false,
    "pycharm": {
     "name": "#%%\n"
    }
   }
  },
  {
   "cell_type": "code",
   "execution_count": 3,
   "outputs": [
    {
     "name": "stdout",
     "output_type": "stream",
     "text": [
      "INFO:cuts.py:3069:select_targets: Running on the main survey\n",
      "Entering Apply_Cuts\n",
      "Entering set target_bits\n",
      "DesiMask LRG_SOUTH        bit 16 mask 0x10000 - LRG cuts tuned for DECam data\n",
      "Tester: [65536     0]\n",
      "Entering Apply_Cuts\n",
      "Entering set target_bits\n",
      "DesiMask LRG_SOUTH        bit 16 mask 0x10000 - LRG cuts tuned for DECam data\n",
      "Tester: [65536     0]\n"
     ]
    }
   ],
   "source": [
    "res = select_targets(\n",
    "    infiles=filenames, numproc=1, qso_selection='colorcuts', nside=None, gaiasub=False,\n",
    "    tcnames=['LRG', 'ELG', 'QSO','LBG'], backup=False)\n"
   ],
   "metadata": {
    "collapsed": false,
    "pycharm": {
     "name": "#%%\n"
    }
   }
  },
  {
   "cell_type": "code",
   "execution_count": 4,
   "outputs": [
    {
     "name": "stdout",
     "output_type": "stream",
     "text": [
      "770\n"
     ]
    }
   ],
   "source": [
    "print(len(res))\n"
   ],
   "metadata": {
    "collapsed": false,
    "pycharm": {
     "name": "#%%\n"
    }
   }
  },
  {
   "cell_type": "code",
   "execution_count": 5,
   "outputs": [
    {
     "data": {
      "text/plain": "   RELEASE  BRICKID    BRICKNAME  BRICK_OBJID MORPHTYPE        RA  \\\n0     9010   328928  b'0001m002'            3    b'EXP'  0.000026   \n1     9010   328928  b'0001m002'           11    b'PSF'  0.000245   \n2     9010   328928  b'0001m002'           33    b'REX'  0.000937   \n3     9010   328928  b'0001m002'           37    b'REX'  0.001039   \n4     9010   328928  b'0001m002'           42    b'PSF'  0.001274   \n\n        RA_IVAR       DEC      DEC_IVAR  \\\n0  5.331747e+11 -0.276482  2.696239e+11   \n1  8.271378e+09 -0.271218  7.767335e+09   \n2  3.021019e+09 -0.315201  2.901988e+09   \n3  8.218941e+08 -0.344122  8.362084e+08   \n4  1.154110e+09 -0.227161  1.092042e+09   \n\n                                              DCHISQ  ...  BGS_TARGET  \\\n0  [16063.554, 19630.223, 20872.037, 21205.998, 2...  ...           0   \n1  [185.29068, 186.69328, 187.38716, 187.04614, 0.0]  ...           0   \n2  [113.57376, 114.75582, 115.10425, 114.87562, 0.0]  ...           0   \n3  [44.089417, 48.170387, 48.044777, 48.619884, 0.0]  ...           0   \n4                [34.99377, 32.75497, 0.0, 0.0, 0.0]  ...           0   \n\n   MWS_TARGET  SUBPRIORITY  OBSCONDITIONS  PRIORITY_INIT_DARK  \\\n0           0          0.0              1                3200   \n1           0          0.0              1                3400   \n2           0          0.0              1                3400   \n3           0          0.0              1                3400   \n4           0          0.0              1                3400   \n\n   NUMOBS_INIT_DARK  PRIORITY_INIT_BRIGHT  NUMOBS_INIT_BRIGHT  \\\n0                 2                    -1                  -1   \n1                 4                    -1                  -1   \n2                 4                    -1                  -1   \n3                 4                    -1                  -1   \n4                 4                    -1                  -1   \n\n   PRIORITY_INIT_BACKUP  NUMOBS_INIT_BACKUP  \n0                    -1                  -1  \n1                    -1                  -1  \n2                    -1                  -1  \n3                    -1                  -1  \n4                    -1                  -1  \n\n[5 rows x 111 columns]",
      "text/html": "<div>\n<style scoped>\n    .dataframe tbody tr th:only-of-type {\n        vertical-align: middle;\n    }\n\n    .dataframe tbody tr th {\n        vertical-align: top;\n    }\n\n    .dataframe thead th {\n        text-align: right;\n    }\n</style>\n<table border=\"1\" class=\"dataframe\">\n  <thead>\n    <tr style=\"text-align: right;\">\n      <th></th>\n      <th>RELEASE</th>\n      <th>BRICKID</th>\n      <th>BRICKNAME</th>\n      <th>BRICK_OBJID</th>\n      <th>MORPHTYPE</th>\n      <th>RA</th>\n      <th>RA_IVAR</th>\n      <th>DEC</th>\n      <th>DEC_IVAR</th>\n      <th>DCHISQ</th>\n      <th>...</th>\n      <th>BGS_TARGET</th>\n      <th>MWS_TARGET</th>\n      <th>SUBPRIORITY</th>\n      <th>OBSCONDITIONS</th>\n      <th>PRIORITY_INIT_DARK</th>\n      <th>NUMOBS_INIT_DARK</th>\n      <th>PRIORITY_INIT_BRIGHT</th>\n      <th>NUMOBS_INIT_BRIGHT</th>\n      <th>PRIORITY_INIT_BACKUP</th>\n      <th>NUMOBS_INIT_BACKUP</th>\n    </tr>\n  </thead>\n  <tbody>\n    <tr>\n      <th>0</th>\n      <td>9010</td>\n      <td>328928</td>\n      <td>b'0001m002'</td>\n      <td>3</td>\n      <td>b'EXP'</td>\n      <td>0.000026</td>\n      <td>5.331747e+11</td>\n      <td>-0.276482</td>\n      <td>2.696239e+11</td>\n      <td>[16063.554, 19630.223, 20872.037, 21205.998, 2...</td>\n      <td>...</td>\n      <td>0</td>\n      <td>0</td>\n      <td>0.0</td>\n      <td>1</td>\n      <td>3200</td>\n      <td>2</td>\n      <td>-1</td>\n      <td>-1</td>\n      <td>-1</td>\n      <td>-1</td>\n    </tr>\n    <tr>\n      <th>1</th>\n      <td>9010</td>\n      <td>328928</td>\n      <td>b'0001m002'</td>\n      <td>11</td>\n      <td>b'PSF'</td>\n      <td>0.000245</td>\n      <td>8.271378e+09</td>\n      <td>-0.271218</td>\n      <td>7.767335e+09</td>\n      <td>[185.29068, 186.69328, 187.38716, 187.04614, 0.0]</td>\n      <td>...</td>\n      <td>0</td>\n      <td>0</td>\n      <td>0.0</td>\n      <td>1</td>\n      <td>3400</td>\n      <td>4</td>\n      <td>-1</td>\n      <td>-1</td>\n      <td>-1</td>\n      <td>-1</td>\n    </tr>\n    <tr>\n      <th>2</th>\n      <td>9010</td>\n      <td>328928</td>\n      <td>b'0001m002'</td>\n      <td>33</td>\n      <td>b'REX'</td>\n      <td>0.000937</td>\n      <td>3.021019e+09</td>\n      <td>-0.315201</td>\n      <td>2.901988e+09</td>\n      <td>[113.57376, 114.75582, 115.10425, 114.87562, 0.0]</td>\n      <td>...</td>\n      <td>0</td>\n      <td>0</td>\n      <td>0.0</td>\n      <td>1</td>\n      <td>3400</td>\n      <td>4</td>\n      <td>-1</td>\n      <td>-1</td>\n      <td>-1</td>\n      <td>-1</td>\n    </tr>\n    <tr>\n      <th>3</th>\n      <td>9010</td>\n      <td>328928</td>\n      <td>b'0001m002'</td>\n      <td>37</td>\n      <td>b'REX'</td>\n      <td>0.001039</td>\n      <td>8.218941e+08</td>\n      <td>-0.344122</td>\n      <td>8.362084e+08</td>\n      <td>[44.089417, 48.170387, 48.044777, 48.619884, 0.0]</td>\n      <td>...</td>\n      <td>0</td>\n      <td>0</td>\n      <td>0.0</td>\n      <td>1</td>\n      <td>3400</td>\n      <td>4</td>\n      <td>-1</td>\n      <td>-1</td>\n      <td>-1</td>\n      <td>-1</td>\n    </tr>\n    <tr>\n      <th>4</th>\n      <td>9010</td>\n      <td>328928</td>\n      <td>b'0001m002'</td>\n      <td>42</td>\n      <td>b'PSF'</td>\n      <td>0.001274</td>\n      <td>1.154110e+09</td>\n      <td>-0.227161</td>\n      <td>1.092042e+09</td>\n      <td>[34.99377, 32.75497, 0.0, 0.0, 0.0]</td>\n      <td>...</td>\n      <td>0</td>\n      <td>0</td>\n      <td>0.0</td>\n      <td>1</td>\n      <td>3400</td>\n      <td>4</td>\n      <td>-1</td>\n      <td>-1</td>\n      <td>-1</td>\n      <td>-1</td>\n    </tr>\n  </tbody>\n</table>\n<p>5 rows × 111 columns</p>\n</div>"
     },
     "execution_count": 5,
     "metadata": {},
     "output_type": "execute_result"
    }
   ],
   "source": [
    "\n",
    "columns = []\n",
    "\n",
    "# Check for later --> is overhead of converting to PD needed? Could go via Recarray immediately, ask Boris whether a CSV is needed\n",
    "# Pipeline to go is: Run select_targets, convert to DF, extract desi_target bitcode, convert.\n",
    "# Add cuts for Lyman Beak Galaxies, dropouts\n",
    "# Extract SNRG --> ask Boris how\n",
    "cols = [('RELEASE', '>i2'), ('BRICKID', '>i4'), ('BRICKNAME', 'S8'), ('BRICK_OBJID', '>i4'), ('MORPHTYPE', 'S4'), ('RA', '>f8'), ('RA_IVAR', '>f4'), ('DEC', '>f8'), ('DEC_IVAR', '>f4'), ('DCHISQ', '>f4', (5,)), ('EBV', '>f4'), ('FLUX_G', '>f4'), ('FLUX_R', '>f4'), ('FLUX_Z', '>f4'), ('FLUX_IVAR_G', '>f4'), ('FLUX_IVAR_R', '>f4'), ('FLUX_IVAR_Z', '>f4'), ('MW_TRANSMISSION_G', '>f4'), ('MW_TRANSMISSION_R', '>f4'), ('MW_TRANSMISSION_Z', '>f4'), ('FRACFLUX_G', '>f4'), ('FRACFLUX_R', '>f4'), ('FRACFLUX_Z', '>f4'), ('FRACMASKED_G', '>f4'), ('FRACMASKED_R', '>f4'), ('FRACMASKED_Z', '>f4'), ('FRACIN_G', '>f4'), ('FRACIN_R', '>f4'), ('FRACIN_Z', '>f4'), ('NOBS_G', '>i2'), ('NOBS_R', '>i2'), ('NOBS_Z', '>i2'), ('PSFDEPTH_G', '>f4'), ('PSFDEPTH_R', '>f4'), ('PSFDEPTH_Z', '>f4'), ('GALDEPTH_G', '>f4'), ('GALDEPTH_R', '>f4'), ('GALDEPTH_Z', '>f4'), ('FLUX_W1', '>f4'), ('FLUX_W2', '>f4'), ('FLUX_W3', '>f4'), ('FLUX_W4', '>f4'), ('FLUX_IVAR_W1', '>f4'), ('FLUX_IVAR_W2', '>f4'), ('FLUX_IVAR_W3', '>f4'), ('FLUX_IVAR_W4', '>f4'), ('MW_TRANSMISSION_W1', '>f4'), ('MW_TRANSMISSION_W2', '>f4'), ('MW_TRANSMISSION_W3', '>f4'), ('MW_TRANSMISSION_W4', '>f4'), ('ALLMASK_G', '>i2'), ('ALLMASK_R', '>i2'), ('ALLMASK_Z', '>i2'), ('FIBERFLUX_G', '>f4'), ('FIBERFLUX_R', '>f4'), ('FIBERFLUX_Z', '>f4'), ('FIBERTOTFLUX_G', '>f4'), ('FIBERTOTFLUX_R', '>f4'), ('FIBERTOTFLUX_Z', '>f4'), ('REF_EPOCH', '>f4'), ('WISEMASK_W1', 'u1'), ('WISEMASK_W2', 'u1'), ('MASKBITS', '>i2'), ('LC_FLUX_W1', '>f4', (15,)), ('LC_FLUX_W2', '>f4', (15,)), ('LC_FLUX_IVAR_W1', '>f4', (15,)), ('LC_FLUX_IVAR_W2', '>f4', (15,)), ('LC_NOBS_W1', '>i2', (15,)), ('LC_NOBS_W2', '>i2', (15,)), ('LC_MJD_W1', '>f8', (15,)), ('LC_MJD_W2', '>f8', (15,)), ('SHAPE_R', '>f4'), ('SHAPE_E1', '>f4'), ('SHAPE_E2', '>f4'), ('SHAPE_R_IVAR', '>f4'), ('SHAPE_E1_IVAR', '>f4'), ('SHAPE_E2_IVAR', '>f4'), ('SERSIC', '>f4'), ('SERSIC_IVAR', '>f4'), ('REF_ID', '>i8'), ('REF_CAT', 'S2'), ('GAIA_PHOT_G_MEAN_MAG', '>f4'), ('GAIA_PHOT_G_MEAN_FLUX_OVER_ERROR', '>f4'), ('GAIA_PHOT_BP_MEAN_MAG', '>f4'), ('GAIA_PHOT_BP_MEAN_FLUX_OVER_ERROR', '>f4'), ('GAIA_PHOT_RP_MEAN_MAG', '>f4'), ('GAIA_PHOT_RP_MEAN_FLUX_OVER_ERROR', '>f4'), ('GAIA_PHOT_BP_RP_EXCESS_FACTOR', '>f4'), ('GAIA_ASTROMETRIC_EXCESS_NOISE', '>f4'), ('GAIA_DUPLICATED_SOURCE', '?'), ('GAIA_ASTROMETRIC_SIGMA5D_MAX', '>f4'), ('GAIA_ASTROMETRIC_PARAMS_SOLVED', 'i1'), ('PARALLAX', '>f4'), ('PARALLAX_IVAR', '>f4'), ('PMRA', '>f4'), ('PMRA_IVAR', '>f4'), ('PMDEC', '>f4'), ('PMDEC_IVAR', '>f4'), ('PHOTSYS', '<U1'), ('TARGETID', '>i8'), ('DESI_TARGET', '>i8'), ('BGS_TARGET', '>i8'), ('MWS_TARGET', '>i8'), ('SUBPRIORITY', '>f8'), ('OBSCONDITIONS', '>i8'), ('PRIORITY_INIT_DARK', '>i8'), ('NUMOBS_INIT_DARK', '>i8'), ('PRIORITY_INIT_BRIGHT', '>i8'), ('NUMOBS_INIT_BRIGHT', '>i8'), ('PRIORITY_INIT_BACKUP', '>i8'), ('NUMOBS_INIT_BACKUP', '>i8')]\n",
    "\n",
    "for c in cols:\n",
    "    columns.append(c[0])\n",
    "\n",
    "\n",
    "df = pd.DataFrame.from_records(data=list(res),columns=columns )\n",
    "\n",
    "\n",
    "\"\"\"Get the Signal-to-noise in g, r, z, W1 and W2 defined as the flux per\n",
    "        band divided by sigma (flux x sqrt of the inverse variance).\n",
    "        self.snr_g = self.flux_g * np.sqrt(self.flux_ivar_g)\n",
    "\n",
    "gsnr = objects['FLUX_G'] * np.sqrt(objects['FLUX_IVAR_G'])\n",
    "rsnr = objects['FLUX_R'] * np.sqrt(objects['FLUX_IVAR_R'])\n",
    "zsnr = objects['FLUX_Z'] * np.sqrt(objects['FLUX_IVAR_Z'])\n",
    "w1snr = objects['FLUX_W1'] * np.sqrt(objects['FLUX_IVAR_W1'])\n",
    "w2snr = objects['FLUX_W2'] * np.sqrt(objects['FLUX_IVAR_W2'])\"\"\"\n",
    "\n",
    "df.head()"
   ],
   "metadata": {
    "collapsed": false,
    "pycharm": {
     "name": "#%%\n"
    }
   }
  },
  {
   "cell_type": "code",
   "execution_count": 6,
   "outputs": [
    {
     "data": {
      "text/plain": "770"
     },
     "execution_count": 6,
     "metadata": {},
     "output_type": "execute_result"
    }
   ],
   "source": [
    "len(df)"
   ],
   "metadata": {
    "collapsed": false,
    "pycharm": {
     "name": "#%%\n"
    }
   }
  },
  {
   "cell_type": "code",
   "execution_count": 9,
   "outputs": [
    {
     "name": "stdout",
     "output_type": "stream",
     "text": [
      "[  65537      38      39  655394 1179778  262148  655458 1179842   65575\n",
      " 1441926  917606  917542  327685]\n"
     ]
    }
   ],
   "source": [
    "from desitarget.targetmask import desi_mask\n",
    "\n",
    "targets = df.DESI_TARGET.unique()\n",
    "\n",
    "print(targets)\n"
   ],
   "metadata": {
    "collapsed": false,
    "pycharm": {
     "name": "#%%\n"
    }
   }
  },
  {
   "cell_type": "code",
   "execution_count": 10,
   "outputs": [
    {
     "name": "stdout",
     "output_type": "stream",
     "text": [
      "([16, 0], ['LRG_SOUTH', 'LRG'], ['LRG cuts tuned for DECam data', 'LRG'])\n",
      "([5, 2, 1], ['ELG_LOP', 'QSO', 'ELG'], ['ELG at standard (ELG) priority', 'QSO', 'ELG'])\n",
      "([5, 2, 1, 0], ['ELG_LOP', 'QSO', 'ELG', 'LRG'], ['ELG at standard (ELG) priority', 'QSO', 'ELG', 'LRG'])\n",
      "([19, 17, 5, 1], ['ELG_LOP_SOUTH', 'ELG_SOUTH', 'ELG_LOP', 'ELG'], ['ELG at standard (ELG) priority tuned for DECam data', 'ELG cuts tuned for DECam data', 'ELG at standard (ELG) priority', 'ELG'])\n",
      "([20, 17, 7, 1], ['ELG_VLO_SOUTH', 'ELG_SOUTH', 'ELG_VLO', 'ELG'], ['Very-low priority ELG (filler) tuned for DECam data', 'ELG cuts tuned for DECam data', 'Very-low priority ELG (filler)', 'ELG'])\n",
      "([18, 2], ['QSO_SOUTH', 'QSO'], ['QSO cuts tuned for DECam data', 'QSO'])\n",
      "([19, 17, 6, 5, 1], ['ELG_LOP_SOUTH', 'ELG_SOUTH', 'ELG_HIP', 'ELG_LOP', 'ELG'], ['ELG at standard (ELG) priority tuned for DECam data', 'ELG cuts tuned for DECam data', 'ELG randomly increased to higher (LRG) priority', 'ELG at standard (ELG) priority', 'ELG'])\n",
      "([20, 17, 7, 6, 1], ['ELG_VLO_SOUTH', 'ELG_SOUTH', 'ELG_VLO', 'ELG_HIP', 'ELG'], ['Very-low priority ELG (filler) tuned for DECam data', 'ELG cuts tuned for DECam data', 'Very-low priority ELG (filler)', 'ELG randomly increased to higher (LRG) priority', 'ELG'])\n",
      "([16, 5, 2, 1, 0], ['LRG_SOUTH', 'ELG_LOP', 'QSO', 'ELG', 'LRG'], ['LRG cuts tuned for DECam data', 'ELG at standard (ELG) priority', 'QSO', 'ELG', 'LRG'])\n",
      "([20, 18, 17, 7, 2, 1], ['ELG_VLO_SOUTH', 'QSO_SOUTH', 'ELG_SOUTH', 'ELG_VLO', 'QSO', 'ELG'], ['Very-low priority ELG (filler) tuned for DECam data', 'QSO cuts tuned for DECam data', 'ELG cuts tuned for DECam data', 'Very-low priority ELG (filler)', 'QSO', 'ELG'])\n",
      "([19, 18, 17, 6, 5, 2, 1], ['ELG_LOP_SOUTH', 'QSO_SOUTH', 'ELG_SOUTH', 'ELG_HIP', 'ELG_LOP', 'QSO', 'ELG'], ['ELG at standard (ELG) priority tuned for DECam data', 'QSO cuts tuned for DECam data', 'ELG cuts tuned for DECam data', 'ELG randomly increased to higher (LRG) priority', 'ELG at standard (ELG) priority', 'QSO', 'ELG'])\n",
      "([19, 18, 17, 5, 2, 1], ['ELG_LOP_SOUTH', 'QSO_SOUTH', 'ELG_SOUTH', 'ELG_LOP', 'QSO', 'ELG'], ['ELG at standard (ELG) priority tuned for DECam data', 'QSO cuts tuned for DECam data', 'ELG cuts tuned for DECam data', 'ELG at standard (ELG) priority', 'QSO', 'ELG'])\n",
      "([18, 16, 2, 0], ['QSO_SOUTH', 'LRG_SOUTH', 'QSO', 'LRG'], ['QSO cuts tuned for DECam data', 'LRG cuts tuned for DECam data', 'QSO', 'LRG'])\n"
     ]
    }
   ],
   "source": [
    "def desitarget_bitcode_2_str(bitcode):\n",
    "\n",
    "    bina = (bin(bitcode))\n",
    "    bina = bina[2:]\n",
    "\n",
    "    desi_codes = []\n",
    "    categories = []\n",
    "    comments = []\n",
    "\n",
    "    i = len(bina)-1\n",
    "    for bit in bina:\n",
    "        if bit == '1':\n",
    "            desi_codes.append(i)\n",
    "            comments.append(desi_mask.comment(i))\n",
    "            categories.append(desi_mask.bitname(i))\n",
    "        i -= 1\n",
    "\n",
    "    return desi_codes,  categories, comments\n",
    "\n",
    "for obj in targets:\n",
    "    print(desitarget_bitcode_2_str(obj))"
   ],
   "metadata": {
    "collapsed": false,
    "pycharm": {
     "name": "#%%\n"
    }
   }
  },
  {
   "cell_type": "code",
   "execution_count": 13,
   "outputs": [
    {
     "name": "stdout",
     "output_type": "stream",
     "text": [
      "([5, 2, 1], ['ELG_LOP', 'QSO', 'ELG'], ['ELG at standard (ELG) priority', 'QSO', 'ELG'])\n"
     ]
    }
   ],
   "source": [
    "print(desitarget_bitcode_2_str(38))"
   ],
   "metadata": {
    "collapsed": false,
    "pycharm": {
     "name": "#%%\n"
    }
   }
  },
  {
   "cell_type": "code",
   "execution_count": 3,
   "outputs": [],
   "source": [
    "import os\n",
    "from cuts import select_targets\n",
    "import pandas as pd\n",
    "\n",
    "filenames = []\n",
    "\n",
    "#path = 'bricks_data/tractor'\n",
    "path = '/Volumes/Astrostick/bricks_data/south'\n"
   ],
   "metadata": {
    "collapsed": false,
    "pycharm": {
     "name": "#%%\n"
    }
   }
  },
  {
   "cell_type": "code",
   "execution_count": 4,
   "outputs": [
    {
     "name": "stdout",
     "output_type": "stream",
     "text": [
      "INFO:cuts.py:3080:select_targets: Running on the main survey\n",
      "INFO:cuts.py:3197:_update_status: 20/1048 files; 0.9 secs/file; 0.3 total mins elapsed\n",
      "INFO:cuts.py:3197:_update_status: 40/1048 files; 0.9 secs/file; 0.6 total mins elapsed\n",
      "INFO:cuts.py:3197:_update_status: 60/1048 files; 0.9 secs/file; 0.9 total mins elapsed\n",
      "INFO:cuts.py:3197:_update_status: 80/1048 files; 0.9 secs/file; 1.2 total mins elapsed\n",
      "INFO:cuts.py:3197:_update_status: 100/1048 files; 0.9 secs/file; 1.5 total mins elapsed\n",
      "INFO:cuts.py:3197:_update_status: 120/1048 files; 0.9 secs/file; 1.8 total mins elapsed\n",
      "INFO:cuts.py:3197:_update_status: 140/1048 files; 0.9 secs/file; 2.1 total mins elapsed\n",
      "INFO:cuts.py:3197:_update_status: 160/1048 files; 0.9 secs/file; 2.4 total mins elapsed\n",
      "INFO:cuts.py:3197:_update_status: 180/1048 files; 0.9 secs/file; 2.7 total mins elapsed\n",
      "INFO:cuts.py:3197:_update_status: 200/1048 files; 0.9 secs/file; 3.0 total mins elapsed\n",
      "INFO:cuts.py:3197:_update_status: 220/1048 files; 0.9 secs/file; 3.3 total mins elapsed\n",
      "INFO:cuts.py:3197:_update_status: 240/1048 files; 0.9 secs/file; 3.6 total mins elapsed\n",
      "INFO:cuts.py:3197:_update_status: 260/1048 files; 0.9 secs/file; 3.9 total mins elapsed\n",
      "INFO:cuts.py:3197:_update_status: 280/1048 files; 0.9 secs/file; 4.2 total mins elapsed\n",
      "INFO:cuts.py:3197:_update_status: 300/1048 files; 0.9 secs/file; 4.5 total mins elapsed\n",
      "INFO:cuts.py:3197:_update_status: 320/1048 files; 0.9 secs/file; 4.8 total mins elapsed\n",
      "INFO:cuts.py:3197:_update_status: 340/1048 files; 0.9 secs/file; 5.2 total mins elapsed\n",
      "INFO:cuts.py:3197:_update_status: 360/1048 files; 0.9 secs/file; 5.5 total mins elapsed\n",
      "INFO:cuts.py:3197:_update_status: 380/1048 files; 0.9 secs/file; 5.8 total mins elapsed\n",
      "INFO:cuts.py:3197:_update_status: 400/1048 files; 0.9 secs/file; 6.1 total mins elapsed\n",
      "INFO:cuts.py:3197:_update_status: 420/1048 files; 0.9 secs/file; 6.4 total mins elapsed\n",
      "INFO:cuts.py:3197:_update_status: 440/1048 files; 0.9 secs/file; 6.6 total mins elapsed\n",
      "INFO:cuts.py:3197:_update_status: 460/1048 files; 0.9 secs/file; 6.9 total mins elapsed\n",
      "INFO:cuts.py:3197:_update_status: 480/1048 files; 0.9 secs/file; 7.2 total mins elapsed\n",
      "INFO:cuts.py:3197:_update_status: 500/1048 files; 0.9 secs/file; 7.5 total mins elapsed\n",
      "INFO:cuts.py:3197:_update_status: 520/1048 files; 0.9 secs/file; 7.8 total mins elapsed\n",
      "INFO:cuts.py:3197:_update_status: 540/1048 files; 0.9 secs/file; 8.1 total mins elapsed\n",
      "INFO:cuts.py:3197:_update_status: 560/1048 files; 0.9 secs/file; 8.4 total mins elapsed\n",
      "INFO:cuts.py:3197:_update_status: 580/1048 files; 0.9 secs/file; 8.7 total mins elapsed\n",
      "INFO:cuts.py:3197:_update_status: 600/1048 files; 0.9 secs/file; 8.9 total mins elapsed\n",
      "INFO:cuts.py:3197:_update_status: 620/1048 files; 0.9 secs/file; 9.2 total mins elapsed\n",
      "INFO:cuts.py:3197:_update_status: 640/1048 files; 0.9 secs/file; 9.5 total mins elapsed\n",
      "INFO:cuts.py:3197:_update_status: 660/1048 files; 0.9 secs/file; 9.8 total mins elapsed\n",
      "INFO:cuts.py:3197:_update_status: 680/1048 files; 0.9 secs/file; 10.1 total mins elapsed\n",
      "INFO:cuts.py:3197:_update_status: 700/1048 files; 0.9 secs/file; 10.4 total mins elapsed\n",
      "INFO:cuts.py:3197:_update_status: 720/1048 files; 0.9 secs/file; 10.7 total mins elapsed\n",
      "INFO:cuts.py:3197:_update_status: 740/1048 files; 0.9 secs/file; 11.0 total mins elapsed\n",
      "INFO:cuts.py:3197:_update_status: 760/1048 files; 0.9 secs/file; 11.3 total mins elapsed\n",
      "INFO:cuts.py:3197:_update_status: 780/1048 files; 0.9 secs/file; 11.6 total mins elapsed\n",
      "INFO:cuts.py:3197:_update_status: 800/1048 files; 0.9 secs/file; 11.9 total mins elapsed\n",
      "INFO:cuts.py:3197:_update_status: 820/1048 files; 0.9 secs/file; 12.2 total mins elapsed\n",
      "INFO:cuts.py:3197:_update_status: 840/1048 files; 0.9 secs/file; 12.5 total mins elapsed\n",
      "INFO:cuts.py:3197:_update_status: 860/1048 files; 0.9 secs/file; 12.8 total mins elapsed\n",
      "INFO:cuts.py:3197:_update_status: 880/1048 files; 0.9 secs/file; 13.1 total mins elapsed\n",
      "INFO:cuts.py:3197:_update_status: 900/1048 files; 0.9 secs/file; 13.4 total mins elapsed\n",
      "INFO:cuts.py:3197:_update_status: 920/1048 files; 0.9 secs/file; 13.7 total mins elapsed\n",
      "INFO:cuts.py:3197:_update_status: 940/1048 files; 0.9 secs/file; 13.9 total mins elapsed\n",
      "INFO:cuts.py:3197:_update_status: 960/1048 files; 0.9 secs/file; 14.3 total mins elapsed\n",
      "INFO:cuts.py:3197:_update_status: 980/1048 files; 0.9 secs/file; 14.6 total mins elapsed\n",
      "INFO:cuts.py:3197:_update_status: 1000/1048 files; 0.9 secs/file; 14.9 total mins elapsed\n",
      "INFO:cuts.py:3197:_update_status: 1020/1048 files; 0.9 secs/file; 15.1 total mins elapsed\n",
      "INFO:cuts.py:3197:_update_status: 1040/1048 files; 0.9 secs/file; 15.4 total mins elapsed\n",
      "{16, 0}\n",
      "{38}\n",
      "{39}\n",
      "{17, 19, 5, 1}\n",
      "{17, 20, 1, 7}\n",
      "{18, 2}\n",
      "{1, 5, 6, 17, 19}\n",
      "{1, 6, 7, 17, 20}\n",
      "{16, 0, 38}\n",
      "{1, 2, 7, 17, 18, 20}\n",
      "{1, 2, 5, 6, 17, 18, 19}\n",
      "{1, 2, 5, 17, 18, 19}\n",
      "{16, 0, 18, 2}\n",
      "{0, 1, 7, 16, 17, 20}\n",
      "{0, 1, 2, 5, 16, 17, 18, 19}\n",
      "{16, 0, 39}\n",
      "{0, 1, 5, 16, 17, 19}\n",
      "{1, 5, 38, 6, 17, 19}\n",
      "{1, 2, 6, 7, 17, 18, 20}\n",
      "{0, 1, 5, 6, 16, 17, 19}\n",
      "{1, 5, 38, 17, 19}\n",
      "{0, 1, 6, 7, 16, 17, 20}\n",
      "{0, 1, 2, 5, 6, 16, 17, 18, 19}\n",
      "{0, 1, 2, 6, 7, 16, 17, 18, 20}\n",
      "{0, 1, 2, 7, 16, 17, 18, 20}\n",
      "{18, 2, 38}\n",
      "{1, 2, 5, 38, 17, 18, 19}\n",
      "<class 'tuple'>\n",
      "   RELEASE  BRICKID    BRICKNAME  BRICK_OBJID MORPHTYPE        RA  \\\n",
      "0     9010   328928  b'0001m002'            3    b'EXP'  0.000026   \n",
      "1     9010   328928  b'0001m002'           11    b'PSF'  0.000245   \n",
      "2     9010   328928  b'0001m002'           33    b'REX'  0.000937   \n",
      "3     9010   328928  b'0001m002'           37    b'REX'  0.001039   \n",
      "4     9010   328928  b'0001m002'           42    b'PSF'  0.001274   \n",
      "\n",
      "        RA_IVAR       DEC      DEC_IVAR  \\\n",
      "0  5.331747e+11 -0.276482  2.696239e+11   \n",
      "1  8.271378e+09 -0.271218  7.767335e+09   \n",
      "2  3.021019e+09 -0.315201  2.901988e+09   \n",
      "3  8.218941e+08 -0.344122  8.362084e+08   \n",
      "4  1.154110e+09 -0.227161  1.092042e+09   \n",
      "\n",
      "                                              DCHISQ  ...  NUMOBS_INIT_DARK  \\\n",
      "0  [16063.554, 19630.223, 20872.037, 21205.998, 2...  ...                 2   \n",
      "1  [185.29068, 186.69328, 187.38716, 187.04614, 0.0]  ...                -1   \n",
      "2  [113.57376, 114.75582, 115.10425, 114.87562, 0.0]  ...                -1   \n",
      "3  [44.089417, 48.170387, 48.044777, 48.619884, 0.0]  ...                -1   \n",
      "4                [34.99377, 32.75497, 0.0, 0.0, 0.0]  ...                -1   \n",
      "\n",
      "   PRIORITY_INIT_BRIGHT  NUMOBS_INIT_BRIGHT  PRIORITY_INIT_BACKUP  \\\n",
      "0                    -1                  -1                    -1   \n",
      "1                    -1                  -1                    -1   \n",
      "2                    -1                  -1                    -1   \n",
      "3                    -1                  -1                    -1   \n",
      "4                    -1                  -1                    -1   \n",
      "\n",
      "   NUMOBS_INIT_BACKUP    LRG    ELG    QSO   GLBG   RLBG  \n",
      "0                  -1   True  False  False  False  False  \n",
      "1                  -1  False  False  False   True  False  \n",
      "2                  -1  False  False  False   True  False  \n",
      "3                  -1  False  False  False   True  False  \n",
      "4                  -1  False  False  False  False   True  \n",
      "\n",
      "[5 rows x 116 columns]\n"
     ]
    }
   ],
   "source": [
    "\n",
    "for filename in os.listdir(path):\n",
    "    if '.fits' not in filename:\n",
    "        continue\n",
    "    filenames.append(f'{path}/{filename}')\n",
    "\n",
    "res = select_targets(\n",
    "    infiles=filenames, numproc=1, qso_selection='colorcuts', nside=None, gaiasub=False,\n",
    "    tcnames=[\"LRG\",\"ELG\",\"QSO\",\"LBG\"], backup=False)\n",
    "\n",
    "cols = [('RELEASE', '>i2'), ('BRICKID', '>i4'), ('BRICKNAME', 'S8'), ('BRICK_OBJID', '>i4'), ('MORPHTYPE', 'S4'),\n",
    "        ('RA', '>f8'), ('RA_IVAR', '>f4'), ('DEC', '>f8'), ('DEC_IVAR', '>f4'), ('DCHISQ', '>f4', (5,)), ('EBV', '>f4'),\n",
    "        ('FLUX_G', '>f4'), ('FLUX_R', '>f4'), ('FLUX_Z', '>f4'), ('FLUX_IVAR_G', '>f4'), ('FLUX_IVAR_R', '>f4'),\n",
    "        ('FLUX_IVAR_Z', '>f4'), ('MW_TRANSMISSION_G', '>f4'), ('MW_TRANSMISSION_R', '>f4'),\n",
    "        ('MW_TRANSMISSION_Z', '>f4'), ('FRACFLUX_G', '>f4'), ('FRACFLUX_R', '>f4'), ('FRACFLUX_Z', '>f4'),\n",
    "        ('FRACMASKED_G', '>f4'), ('FRACMASKED_R', '>f4'), ('FRACMASKED_Z', '>f4'), ('FRACIN_G', '>f4'),\n",
    "        ('FRACIN_R', '>f4'), ('FRACIN_Z', '>f4'), ('NOBS_G', '>i2'), ('NOBS_R', '>i2'), ('NOBS_Z', '>i2'),\n",
    "        ('PSFDEPTH_G', '>f4'), ('PSFDEPTH_R', '>f4'), ('PSFDEPTH_Z', '>f4'), ('GALDEPTH_G', '>f4'),\n",
    "        ('GALDEPTH_R', '>f4'), ('GALDEPTH_Z', '>f4'), ('FLUX_W1', '>f4'), ('FLUX_W2', '>f4'), ('FLUX_W3', '>f4'),\n",
    "        ('FLUX_W4', '>f4'), ('FLUX_IVAR_W1', '>f4'), ('FLUX_IVAR_W2', '>f4'), ('FLUX_IVAR_W3', '>f4'),\n",
    "        ('FLUX_IVAR_W4', '>f4'), ('MW_TRANSMISSION_W1', '>f4'), ('MW_TRANSMISSION_W2', '>f4'),\n",
    "        ('MW_TRANSMISSION_W3', '>f4'), ('MW_TRANSMISSION_W4', '>f4'), ('ALLMASK_G', '>i2'), ('ALLMASK_R', '>i2'),\n",
    "        ('ALLMASK_Z', '>i2'), ('FIBERFLUX_G', '>f4'), ('FIBERFLUX_R', '>f4'), ('FIBERFLUX_Z', '>f4'),\n",
    "        ('FIBERTOTFLUX_G', '>f4'), ('FIBERTOTFLUX_R', '>f4'), ('FIBERTOTFLUX_Z', '>f4'), ('REF_EPOCH', '>f4'),\n",
    "        ('WISEMASK_W1', 'u1'), ('WISEMASK_W2', 'u1'), ('MASKBITS', '>i2'), ('LC_FLUX_W1', '>f4', (15,)),\n",
    "        ('LC_FLUX_W2', '>f4', (15,)), ('LC_FLUX_IVAR_W1', '>f4', (15,)), ('LC_FLUX_IVAR_W2', '>f4', (15,)),\n",
    "        ('LC_NOBS_W1', '>i2', (15,)), ('LC_NOBS_W2', '>i2', (15,)), ('LC_MJD_W1', '>f8', (15,)),\n",
    "        ('LC_MJD_W2', '>f8', (15,)), ('SHAPE_R', '>f4'), ('SHAPE_E1', '>f4'), ('SHAPE_E2', '>f4'),\n",
    "        ('SHAPE_R_IVAR', '>f4'), ('SHAPE_E1_IVAR', '>f4'), ('SHAPE_E2_IVAR', '>f4'), ('SERSIC', '>f4'),\n",
    "        ('SERSIC_IVAR', '>f4'), ('REF_ID', '>i8'), ('REF_CAT', 'S2'), ('GAIA_PHOT_G_MEAN_MAG', '>f4'),\n",
    "        ('GAIA_PHOT_G_MEAN_FLUX_OVER_ERROR', '>f4'), ('GAIA_PHOT_BP_MEAN_MAG', '>f4'),\n",
    "        ('GAIA_PHOT_BP_MEAN_FLUX_OVER_ERROR', '>f4'), ('GAIA_PHOT_RP_MEAN_MAG', '>f4'),\n",
    "        ('GAIA_PHOT_RP_MEAN_FLUX_OVER_ERROR', '>f4'), ('GAIA_PHOT_BP_RP_EXCESS_FACTOR', '>f4'),\n",
    "        ('GAIA_ASTROMETRIC_EXCESS_NOISE', '>f4'), ('GAIA_DUPLICATED_SOURCE', '?'),\n",
    "        ('GAIA_ASTROMETRIC_SIGMA5D_MAX', '>f4'), ('GAIA_ASTROMETRIC_PARAMS_SOLVED', 'i1'), ('PARALLAX', '>f4'),\n",
    "        ('PARALLAX_IVAR', '>f4'), ('PMRA', '>f4'), ('PMRA_IVAR', '>f4'), ('PMDEC', '>f4'), ('PMDEC_IVAR', '>f4'),\n",
    "        ('PHOTSYS', '<U1'), ('TARGETID', '>i8'), ('DESI_TARGET', '>i8'), ('BGS_TARGET', '>i8'), ('MWS_TARGET', '>i8'),\n",
    "        ('SUBPRIORITY', '>f8'), ('OBSCONDITIONS', '>i8'), ('PRIORITY_INIT_DARK', '>i8'), ('NUMOBS_INIT_DARK', '>i8'),\n",
    "        ('PRIORITY_INIT_BRIGHT', '>i8'), ('NUMOBS_INIT_BRIGHT', '>i8'), ('PRIORITY_INIT_BACKUP', '>i8'),\n",
    "        ('NUMOBS_INIT_BACKUP', '>i8')]\n",
    "\n",
    "columns = [c[0] for c in cols]\n",
    "\n",
    "df = pd.DataFrame.from_records(data=list(res), columns=columns)\n",
    "\n",
    "targets = df.DESI_TARGET.unique()\n",
    "\n",
    "from targetmask import desi_mask\n",
    "\n",
    "\n",
    "def desitarget_bitcode_2_str(bitcode):\n",
    "    bina = (bin(bitcode))\n",
    "    bina = bina[2:]\n",
    "\n",
    "    desi_codes = set()\n",
    "\n",
    "    i = len(bina) - 1\n",
    "    for bit in bina:\n",
    "        if bit == '1':\n",
    "            desi_codes.add(i)\n",
    "        i -= 1\n",
    "\n",
    "    return desi_codes\n",
    "\n",
    "\n",
    "def desi_code_2_label(code):\n",
    "\n",
    "    LRG_CODES = {0, 8, 16}\n",
    "    ELG_CODES = {1, 5, 6, 7, 9, 11, 12, 17, 19, 20}\n",
    "    QSO_CODES = {2, 4, 10, 18}\n",
    "    GLBG_CODE = {38}\n",
    "    RLBG_CODE = {39}\n",
    "\n",
    "    lrg = bool(LRG_CODES & code)\n",
    "\n",
    "    elg = bool(ELG_CODES & code)\n",
    "\n",
    "    qso = bool(QSO_CODES & code)\n",
    "\n",
    "    glbg = bool(GLBG_CODE & code)\n",
    "\n",
    "    rlbg = bool(RLBG_CODE & code)\n",
    "\n",
    "    return lrg, elg, qso, glbg, rlbg\n",
    "\n",
    "\n",
    "def desi_code_2_cat(bitcode):\n",
    "    return desi_code_2_label(desitarget_bitcode_2_str(bitcode))\n",
    "\n",
    "\n",
    "for obj in targets:\n",
    "    print(desitarget_bitcode_2_str(obj))\n",
    "\n",
    "cats = df.DESI_TARGET.apply(desi_code_2_cat)\n",
    "\n",
    "print(type(cats[0]))\n",
    "df['LRG'], df['ELG'], df['QSO'], df['GLBG'], df['RLBG'] = zip(*cats)\n",
    "\n",
    "print((df.head()))\n"
   ],
   "metadata": {
    "collapsed": false,
    "pycharm": {
     "name": "#%%\n"
    }
   }
  },
  {
   "cell_type": "code",
   "execution_count": 5,
   "outputs": [
    {
     "name": "stdout",
     "output_type": "stream",
     "text": [
      "No of LRG       : 40455\n",
      "No of ELG       : 151869\n",
      "No of QSO       : 18972\n",
      "No of G Dropouts: 116410\n",
      "No of R Dropouts: 34090\n"
     ]
    }
   ],
   "source": [
    "print(f\"No of LRG       : {len(df[df['LRG'] == True])}\")\n",
    "print(f\"No of ELG       : {len(df[df['ELG'] == True])}\")\n",
    "print(f\"No of QSO       : {len(df[df['QSO'] == True])}\")\n",
    "print(f\"No of G Dropouts: {len(df[df['GLBG'] == True])}\")\n",
    "print(f\"No of R Dropouts: {len(df[df['RLBG'] == True])}\")"
   ],
   "metadata": {
    "collapsed": false,
    "pycharm": {
     "name": "#%%\n"
    }
   }
  },
  {
   "cell_type": "code",
   "execution_count": 15,
   "outputs": [],
   "source": [
    "import os\n",
    "from cuts import select_targets, format_output\n",
    "\n",
    "#path = '/Users/edgareggert/astrostatistics/bricks_data/tractor/'\n",
    "path = '/Volumes/Astrostick/bricks_data/south'\n",
    "\n",
    "filenames = [f'{path}/{filename}' for filename in os.listdir(path) if '.fits' in filename]\n"
   ],
   "metadata": {
    "collapsed": false,
    "pycharm": {
     "name": "#%%\n"
    }
   }
  },
  {
   "cell_type": "code",
   "execution_count": 16,
   "outputs": [
    {
     "name": "stdout",
     "output_type": "stream",
     "text": [
      "INFO:cuts.py:3283:select_targets: Running on the main survey\n",
      "INFO:cuts.py:3400:_update_status: 20/1047 files; 0.9 secs/file; 0.3 total mins elapsed\n",
      "INFO:cuts.py:3400:_update_status: 40/1047 files; 0.9 secs/file; 0.6 total mins elapsed\n",
      "INFO:cuts.py:3400:_update_status: 60/1047 files; 0.9 secs/file; 0.9 total mins elapsed\n",
      "INFO:cuts.py:3400:_update_status: 80/1047 files; 0.9 secs/file; 1.2 total mins elapsed\n",
      "INFO:cuts.py:3400:_update_status: 100/1047 files; 0.9 secs/file; 1.5 total mins elapsed\n",
      "INFO:cuts.py:3400:_update_status: 120/1047 files; 0.9 secs/file; 1.8 total mins elapsed\n",
      "INFO:cuts.py:3400:_update_status: 140/1047 files; 0.9 secs/file; 2.1 total mins elapsed\n",
      "INFO:cuts.py:3400:_update_status: 160/1047 files; 0.9 secs/file; 2.4 total mins elapsed\n",
      "INFO:cuts.py:3400:_update_status: 180/1047 files; 0.9 secs/file; 2.8 total mins elapsed\n",
      "INFO:cuts.py:3400:_update_status: 200/1047 files; 0.9 secs/file; 3.1 total mins elapsed\n",
      "INFO:cuts.py:3400:_update_status: 220/1047 files; 0.9 secs/file; 3.4 total mins elapsed\n",
      "INFO:cuts.py:3400:_update_status: 240/1047 files; 0.9 secs/file; 3.7 total mins elapsed\n",
      "INFO:cuts.py:3400:_update_status: 260/1047 files; 0.9 secs/file; 4.0 total mins elapsed\n",
      "INFO:cuts.py:3400:_update_status: 280/1047 files; 0.9 secs/file; 4.3 total mins elapsed\n",
      "INFO:cuts.py:3400:_update_status: 300/1047 files; 0.9 secs/file; 4.7 total mins elapsed\n",
      "INFO:cuts.py:3400:_update_status: 320/1047 files; 0.9 secs/file; 5.0 total mins elapsed\n",
      "INFO:cuts.py:3400:_update_status: 340/1047 files; 0.9 secs/file; 5.4 total mins elapsed\n",
      "INFO:cuts.py:3400:_update_status: 360/1047 files; 0.9 secs/file; 5.7 total mins elapsed\n",
      "INFO:cuts.py:3400:_update_status: 380/1047 files; 0.9 secs/file; 6.0 total mins elapsed\n",
      "INFO:cuts.py:3400:_update_status: 400/1047 files; 0.9 secs/file; 6.3 total mins elapsed\n",
      "INFO:cuts.py:3400:_update_status: 420/1047 files; 0.9 secs/file; 6.6 total mins elapsed\n",
      "INFO:cuts.py:3400:_update_status: 440/1047 files; 0.9 secs/file; 6.9 total mins elapsed\n",
      "INFO:cuts.py:3400:_update_status: 460/1047 files; 0.9 secs/file; 7.2 total mins elapsed\n",
      "INFO:cuts.py:3400:_update_status: 480/1047 files; 0.9 secs/file; 7.5 total mins elapsed\n",
      "INFO:cuts.py:3400:_update_status: 500/1047 files; 0.9 secs/file; 7.8 total mins elapsed\n",
      "INFO:cuts.py:3400:_update_status: 520/1047 files; 0.9 secs/file; 8.1 total mins elapsed\n",
      "INFO:cuts.py:3400:_update_status: 540/1047 files; 0.9 secs/file; 8.4 total mins elapsed\n",
      "INFO:cuts.py:3400:_update_status: 560/1047 files; 0.9 secs/file; 8.7 total mins elapsed\n",
      "INFO:cuts.py:3400:_update_status: 580/1047 files; 0.9 secs/file; 9.0 total mins elapsed\n",
      "INFO:cuts.py:3400:_update_status: 600/1047 files; 0.9 secs/file; 9.4 total mins elapsed\n",
      "INFO:cuts.py:3400:_update_status: 620/1047 files; 0.9 secs/file; 9.7 total mins elapsed\n",
      "INFO:cuts.py:3400:_update_status: 640/1047 files; 0.9 secs/file; 10.0 total mins elapsed\n",
      "INFO:cuts.py:3400:_update_status: 660/1047 files; 0.9 secs/file; 10.3 total mins elapsed\n",
      "INFO:cuts.py:3400:_update_status: 680/1047 files; 0.9 secs/file; 10.6 total mins elapsed\n",
      "INFO:cuts.py:3400:_update_status: 700/1047 files; 0.9 secs/file; 10.9 total mins elapsed\n",
      "INFO:cuts.py:3400:_update_status: 720/1047 files; 0.9 secs/file; 11.2 total mins elapsed\n",
      "INFO:cuts.py:3400:_update_status: 740/1047 files; 0.9 secs/file; 11.5 total mins elapsed\n",
      "INFO:cuts.py:3400:_update_status: 760/1047 files; 0.9 secs/file; 11.8 total mins elapsed\n",
      "INFO:cuts.py:3400:_update_status: 780/1047 files; 0.9 secs/file; 12.1 total mins elapsed\n",
      "INFO:cuts.py:3400:_update_status: 800/1047 files; 0.9 secs/file; 12.4 total mins elapsed\n",
      "INFO:cuts.py:3400:_update_status: 820/1047 files; 0.9 secs/file; 12.8 total mins elapsed\n",
      "INFO:cuts.py:3400:_update_status: 840/1047 files; 0.9 secs/file; 13.1 total mins elapsed\n",
      "INFO:cuts.py:3400:_update_status: 860/1047 files; 0.9 secs/file; 13.4 total mins elapsed\n",
      "INFO:cuts.py:3400:_update_status: 880/1047 files; 0.9 secs/file; 13.7 total mins elapsed\n",
      "INFO:cuts.py:3400:_update_status: 900/1047 files; 0.9 secs/file; 14.0 total mins elapsed\n",
      "INFO:cuts.py:3400:_update_status: 920/1047 files; 0.9 secs/file; 14.3 total mins elapsed\n",
      "INFO:cuts.py:3400:_update_status: 940/1047 files; 0.9 secs/file; 14.6 total mins elapsed\n",
      "INFO:cuts.py:3400:_update_status: 960/1047 files; 0.9 secs/file; 15.0 total mins elapsed\n",
      "INFO:cuts.py:3400:_update_status: 980/1047 files; 0.9 secs/file; 15.3 total mins elapsed\n",
      "INFO:cuts.py:3400:_update_status: 1000/1047 files; 0.9 secs/file; 15.6 total mins elapsed\n",
      "INFO:cuts.py:3400:_update_status: 1020/1047 files; 0.9 secs/file; 15.9 total mins elapsed\n",
      "INFO:cuts.py:3400:_update_status: 1040/1047 files; 0.9 secs/file; 16.2 total mins elapsed\n",
      "         RA       DEC                                             DCHISQ  \\\n",
      "0  0.000026 -0.276482  [16063.554, 19630.223, 20872.037, 21205.998, 2...   \n",
      "1  0.000245 -0.271218  [185.29068, 186.69328, 187.38716, 187.04614, 0.0]   \n",
      "2  0.000937 -0.315201  [113.57376, 114.75582, 115.10425, 114.87562, 0.0]   \n",
      "3  0.001039 -0.344122  [44.089417, 48.170387, 48.044777, 48.619884, 0.0]   \n",
      "4  0.001274 -0.227161                [34.99377, 32.75497, 0.0, 0.0, 0.0]   \n",
      "\n",
      "     FLUX_G    FLUX_R    FLUX_Z    FLUX_W1    FLUX_W2    LRG    ELG    QSO  \\\n",
      "0  1.268328  4.234972  9.841990  49.150543  44.629097   True  False  False   \n",
      "1  0.051513  0.139631  0.851102  29.659548  28.780699  False  False  False   \n",
      "2  0.024413  0.164024  0.395544  16.026556  14.598643  False  False  False   \n",
      "3  0.046495  0.135459  0.327496  15.409521  12.230899  False  False  False   \n",
      "4  0.041028  0.050484  0.321296   7.598585   8.037763  False  False  False   \n",
      "\n",
      "    GLBG   RLBG       GSNR        RSNR       ZSNR      W1SNR      W2SNR  \n",
      "0  False  False  42.792423  128.449014  95.206546  64.528167  31.045204  \n",
      "1   True  False   2.724583    7.136682  13.305039  45.195599  21.449956  \n",
      "2   True  False   1.306625    8.200994   6.733072  26.677430  11.621864  \n",
      "3   True  False   1.938231    5.202245   4.381785  25.673507   9.537091  \n",
      "4  False   True   2.130718    2.505878   5.055772  12.795179   6.425284  \n",
      "No of LRG       : 40424\n",
      "No of ELG       : 151712\n",
      "No of QSO       : 18935\n",
      "No of G Dropouts: 116326\n",
      "No of R Dropouts: 34054\n"
     ]
    }
   ],
   "source": [
    "\n",
    "res = select_targets(\n",
    "    infiles=filenames, numproc=1, qso_selection='colorcuts', nside=None, gaiasub=False,\n",
    "    tcnames=[\"LRG\", \"ELG\", \"QSO\", 'LBG'], backup=False)\n",
    "\n",
    "df = format_output(result=res)\n",
    "\n",
    "print((df.head()))\n",
    "print(f\"No of LRG       : {len(df[df['LRG'] == True])}\")\n",
    "print(f\"No of ELG       : {len(df[df['ELG'] == True])}\")\n",
    "print(f\"No of QSO       : {len(df[df['QSO'] == True])}\")\n",
    "print(f\"No of G Dropouts: {len(df[df['GLBG'] == True])}\")\n",
    "print(f\"No of R Dropouts: {len(df[df['RLBG'] == True])}\")"
   ],
   "metadata": {
    "collapsed": false,
    "pycharm": {
     "name": "#%%\n"
    }
   }
  },
  {
   "cell_type": "code",
   "execution_count": 17,
   "outputs": [
    {
     "name": "stdout",
     "output_type": "stream",
     "text": [
      "INFO:cuts.py:3283:select_targets: Running on the main survey\n",
      "INFO:cuts.py:3400:_update_status: 20/1047 files; 0.9 secs/file; 0.3 total mins elapsed\n",
      "INFO:cuts.py:3400:_update_status: 40/1047 files; 0.9 secs/file; 0.6 total mins elapsed\n",
      "INFO:cuts.py:3400:_update_status: 60/1047 files; 0.9 secs/file; 0.9 total mins elapsed\n",
      "INFO:cuts.py:3400:_update_status: 80/1047 files; 0.9 secs/file; 1.2 total mins elapsed\n",
      "INFO:cuts.py:3400:_update_status: 100/1047 files; 0.9 secs/file; 1.5 total mins elapsed\n",
      "INFO:cuts.py:3400:_update_status: 120/1047 files; 0.9 secs/file; 1.8 total mins elapsed\n",
      "INFO:cuts.py:3400:_update_status: 140/1047 files; 0.9 secs/file; 2.1 total mins elapsed\n",
      "INFO:cuts.py:3400:_update_status: 160/1047 files; 0.9 secs/file; 2.4 total mins elapsed\n",
      "INFO:cuts.py:3400:_update_status: 180/1047 files; 0.9 secs/file; 2.7 total mins elapsed\n",
      "INFO:cuts.py:3400:_update_status: 200/1047 files; 0.9 secs/file; 3.0 total mins elapsed\n",
      "INFO:cuts.py:3400:_update_status: 220/1047 files; 0.9 secs/file; 3.3 total mins elapsed\n",
      "INFO:cuts.py:3400:_update_status: 240/1047 files; 0.9 secs/file; 3.5 total mins elapsed\n",
      "INFO:cuts.py:3400:_update_status: 260/1047 files; 0.9 secs/file; 3.9 total mins elapsed\n",
      "INFO:cuts.py:3400:_update_status: 280/1047 files; 0.9 secs/file; 4.2 total mins elapsed\n",
      "INFO:cuts.py:3400:_update_status: 300/1047 files; 0.9 secs/file; 4.5 total mins elapsed\n",
      "INFO:cuts.py:3400:_update_status: 320/1047 files; 0.9 secs/file; 4.8 total mins elapsed\n",
      "INFO:cuts.py:3400:_update_status: 340/1047 files; 0.9 secs/file; 5.2 total mins elapsed\n",
      "INFO:cuts.py:3400:_update_status: 360/1047 files; 0.9 secs/file; 5.4 total mins elapsed\n",
      "INFO:cuts.py:3400:_update_status: 380/1047 files; 0.9 secs/file; 5.7 total mins elapsed\n",
      "INFO:cuts.py:3400:_update_status: 400/1047 files; 0.9 secs/file; 6.0 total mins elapsed\n",
      "INFO:cuts.py:3400:_update_status: 420/1047 files; 0.9 secs/file; 6.4 total mins elapsed\n",
      "INFO:cuts.py:3400:_update_status: 440/1047 files; 0.9 secs/file; 6.6 total mins elapsed\n",
      "INFO:cuts.py:3400:_update_status: 460/1047 files; 0.9 secs/file; 6.9 total mins elapsed\n",
      "INFO:cuts.py:3400:_update_status: 480/1047 files; 0.9 secs/file; 7.2 total mins elapsed\n",
      "INFO:cuts.py:3400:_update_status: 500/1047 files; 0.9 secs/file; 7.5 total mins elapsed\n",
      "INFO:cuts.py:3400:_update_status: 520/1047 files; 0.9 secs/file; 7.8 total mins elapsed\n",
      "INFO:cuts.py:3400:_update_status: 540/1047 files; 0.9 secs/file; 8.1 total mins elapsed\n",
      "INFO:cuts.py:3400:_update_status: 560/1047 files; 0.9 secs/file; 8.4 total mins elapsed\n",
      "INFO:cuts.py:3400:_update_status: 580/1047 files; 0.9 secs/file; 8.7 total mins elapsed\n",
      "INFO:cuts.py:3400:_update_status: 600/1047 files; 0.9 secs/file; 9.0 total mins elapsed\n",
      "INFO:cuts.py:3400:_update_status: 620/1047 files; 0.9 secs/file; 9.3 total mins elapsed\n",
      "INFO:cuts.py:3400:_update_status: 640/1047 files; 0.9 secs/file; 9.6 total mins elapsed\n",
      "INFO:cuts.py:3400:_update_status: 660/1047 files; 0.9 secs/file; 9.8 total mins elapsed\n",
      "INFO:cuts.py:3400:_update_status: 680/1047 files; 0.9 secs/file; 10.2 total mins elapsed\n",
      "INFO:cuts.py:3400:_update_status: 700/1047 files; 0.9 secs/file; 10.4 total mins elapsed\n",
      "INFO:cuts.py:3400:_update_status: 720/1047 files; 0.9 secs/file; 10.7 total mins elapsed\n",
      "INFO:cuts.py:3400:_update_status: 740/1047 files; 0.9 secs/file; 11.0 total mins elapsed\n",
      "INFO:cuts.py:3400:_update_status: 760/1047 files; 0.9 secs/file; 11.3 total mins elapsed\n",
      "INFO:cuts.py:3400:_update_status: 780/1047 files; 0.9 secs/file; 11.7 total mins elapsed\n",
      "INFO:cuts.py:3400:_update_status: 800/1047 files; 0.9 secs/file; 11.9 total mins elapsed\n",
      "INFO:cuts.py:3400:_update_status: 820/1047 files; 0.9 secs/file; 12.3 total mins elapsed\n",
      "INFO:cuts.py:3400:_update_status: 840/1047 files; 0.9 secs/file; 12.6 total mins elapsed\n",
      "INFO:cuts.py:3400:_update_status: 860/1047 files; 0.9 secs/file; 12.9 total mins elapsed\n",
      "INFO:cuts.py:3400:_update_status: 880/1047 files; 0.9 secs/file; 13.2 total mins elapsed\n",
      "INFO:cuts.py:3400:_update_status: 900/1047 files; 0.9 secs/file; 13.5 total mins elapsed\n",
      "INFO:cuts.py:3400:_update_status: 920/1047 files; 0.9 secs/file; 13.8 total mins elapsed\n",
      "INFO:cuts.py:3400:_update_status: 940/1047 files; 0.9 secs/file; 14.1 total mins elapsed\n",
      "INFO:cuts.py:3400:_update_status: 960/1047 files; 0.9 secs/file; 14.4 total mins elapsed\n",
      "INFO:cuts.py:3400:_update_status: 980/1047 files; 0.9 secs/file; 14.7 total mins elapsed\n",
      "INFO:cuts.py:3400:_update_status: 1000/1047 files; 0.9 secs/file; 15.0 total mins elapsed\n",
      "INFO:cuts.py:3400:_update_status: 1020/1047 files; 0.9 secs/file; 15.3 total mins elapsed\n",
      "INFO:cuts.py:3400:_update_status: 1040/1047 files; 0.9 secs/file; 15.6 total mins elapsed\n",
      "         RA       DEC                                             DCHISQ  \\\n",
      "0  0.000245 -0.271218  [185.29068, 186.69328, 187.38716, 187.04614, 0.0]   \n",
      "1  0.000937 -0.315201  [113.57376, 114.75582, 115.10425, 114.87562, 0.0]   \n",
      "2  0.001039 -0.344122  [44.089417, 48.170387, 48.044777, 48.619884, 0.0]   \n",
      "3  0.001274 -0.227161                [34.99377, 32.75497, 0.0, 0.0, 0.0]   \n",
      "4  0.003637 -0.249941    [264.82883, 269.13657, 268.398, 269.24637, 0.0]   \n",
      "\n",
      "     FLUX_G    FLUX_R    FLUX_Z    FLUX_W1    FLUX_W2    LRG    ELG    QSO  \\\n",
      "0  0.051513  0.139631  0.851102  29.659548  28.780699  False  False  False   \n",
      "1  0.024413  0.164024  0.395544  16.026556  14.598643  False  False  False   \n",
      "2  0.046495  0.135459  0.327496  15.409521  12.230899  False  False  False   \n",
      "3  0.041028  0.050484  0.321296   7.598585   8.037763  False  False  False   \n",
      "4  0.032093  0.251204  0.836154  15.287296  12.080920  False  False  False   \n",
      "\n",
      "    GLBG   RLBG      GSNR       RSNR       ZSNR      W1SNR      W2SNR  \n",
      "0   True  False  2.724583   7.136682  13.305039  45.195599  21.449956  \n",
      "1   True  False  1.306625   8.200994   6.733072  26.677430  11.621864  \n",
      "2   True  False  1.938231   5.202245   4.381785  25.673507   9.537091  \n",
      "3  False   True  2.130718   2.505878   5.055772  12.795179   6.425284  \n",
      "4   True  False  1.570697  11.406095  11.614102  24.684368   9.433116  \n",
      "No of LRG       : 0\n",
      "No of ELG       : 0\n",
      "No of QSO       : 0\n",
      "No of G Dropouts: 116326\n",
      "No of R Dropouts: 34054\n"
     ]
    }
   ],
   "source": [
    "res = select_targets(\n",
    "    infiles=filenames, numproc=1, qso_selection='colorcuts', nside=None, gaiasub=False,\n",
    "    tcnames=['LBG'], backup=False)\n",
    "\n",
    "df = format_output(result=res)\n",
    "\n",
    "print((df.head()))\n",
    "print(f\"No of LRG       : {len(df[df['LRG'] == True])}\")\n",
    "print(f\"No of ELG       : {len(df[df['ELG'] == True])}\")\n",
    "print(f\"No of QSO       : {len(df[df['QSO'] == True])}\")\n",
    "print(f\"No of G Dropouts: {len(df[df['GLBG'] == True])}\")\n",
    "print(f\"No of R Dropouts: {len(df[df['RLBG'] == True])}\")"
   ],
   "metadata": {
    "collapsed": false,
    "pycharm": {
     "name": "#%%\n"
    }
   }
  },
  {
   "cell_type": "code",
   "execution_count": 18,
   "outputs": [
    {
     "name": "stdout",
     "output_type": "stream",
     "text": [
      "['tractor-0001m002.fits', 'tractor-1345p270.fits', 'tractor-2443p257.fits', 'tractor-3327p200.fits', 'tractor-1476m075.fits', 'tractor-3352m447.fits', 'tractor-3543p032.fits', 'tractor-0045m322.fits', 'tractor-1643p152.fits', 'tractor-0496m287.fits', 'tractor-1443p000.fits', 'tractor-0639m670.fits', 'tractor-2349p087.fits', 'tractor-0020m562.fits', 'tractor-3240m522.fits', 'tractor-2291p062.fits', 'tractor-2732p265.fits', 'tractor-1923p327.fits', 'tractor-3350p032.fits', 'tractor-2084p117.fits', 'tractor-3432p215.fits', 'tractor-0514m347.fits', 'tractor-3072m647.fits', 'tractor-1493m010.fits', 'tractor-1460p247.fits', 'tractor-0611m017.fits', 'tractor-2353p005.fits', 'tractor-2396p335.fits', 'tractor-1343m020.fits', 'tractor-0191p035.fits', 'tractor-1923m035.fits', 'tractor-0504m397.fits', 'tractor-0455m575.fits', 'tractor-0883m262.fits', 'tractor-1696p185.fits', 'tractor-2176m012.fits', 'tractor-2481p230.fits', 'tractor-0902m525.fits', 'tractor-0300p277.fits', 'tractor-0928m382.fits', 'tractor-1646m297.fits', 'tractor-0273p157.fits', 'tractor-0516m495.fits', 'tractor-0182m075.fits', 'tractor-0375m060.fits', 'tractor-1786p110.fits', 'tractor-0377m470.fits', 'tractor-1935p145.fits', 'tractor-0078p285.fits', 'tractor-0207p215.fits', 'tractor-0132m142.fits', 'tractor-2115m070.fits', 'tractor-1524p102.fits', 'tractor-0175p217.fits', 'tractor-2512p302.fits', 'tractor-2657p250.fits', 'tractor-1438m220.fits', 'tractor-0338m362.fits', 'tractor-0446m092.fits', 'tractor-1989m040.fits', 'tractor-2611p275.fits', 'tractor-0305m265.fits', 'tractor-1988p082.fits', 'tractor-0314m197.fits', 'tractor-0597m082.fits', 'tractor-1558p035.fits', 'tractor-0886m320.fits', 'tractor-2248m062.fits', 'tractor-0270m152.fits', 'tractor-1327p092.fits', 'tractor-2426p335.fits', 'tractor-0587m552.fits', 'tractor-1154p122.fits', 'tractor-2674p237.fits', 'tractor-3472m395.fits', 'tractor-0644m092.fits', 'tractor-1334p055.fits', 'tractor-1886m022.fits', 'tractor-0031p227.fits', 'tractor-2481p175.fits', 'tractor-1362p302.fits', 'tractor-3539p212.fits', 'tractor-3394p080.fits', 'tractor-3564p280.fits', 'tractor-0658m215.fits', 'tractor-0700m460.fits', 'tractor-0839m535.fits', 'tractor-0497m200.fits', 'tractor-0458m310.fits', 'tractor-0116m570.fits', 'tractor-2320p210.fits', 'tractor-1440p157.fits', 'tractor-3493m480.fits', 'tractor-1221p230.fits', 'tractor-0119p187.fits', 'tractor-0705m610.fits', 'tractor-0858m515.fits', 'tractor-1973m020.fits', 'tractor-0089p070.fits', 'tractor-0734m572.fits', 'tractor-0531m550.fits', 'tractor-1625p265.fits', 'tractor-0318m437.fits', 'tractor-1650p122.fits', 'tractor-1803p165.fits', 'tractor-3466p155.fits', 'tractor-1260p035.fits', 'tractor-1407p082.fits', 'tractor-1978p292.fits', 'tractor-2060p070.fits', 'tractor-0563m267.fits', 'tractor-2647p287.fits', 'tractor-2036m042.fits', 'tractor-3555p100.fits', 'tractor-1495p040.fits', 'tractor-0556m012.fits', 'tractor-3186m532.fits', 'tractor-1697p080.fits', 'tractor-1804p205.fits', 'tractor-1997p062.fits', 'tractor-0239m625.fits', 'tractor-0105m355.fits', 'tractor-1294m052.fits', 'tractor-3499p172.fits', 'tractor-3322p200.fits', 'tractor-3241p167.fits', 'tractor-1671p200.fits', 'tractor-3493m032.fits', 'tractor-0849m440.fits', 'tractor-2440p097.fits', 'tractor-2159m105.fits', 'tractor-0485m345.fits', 'tractor-2031p127.fits', 'tractor-3479p097.fits', 'tractor-0395p170.fits', 'tractor-2356p205.fits', 'tractor-2697p220.fits', 'tractor-0243m165.fits', 'tractor-3468p045.fits', 'tractor-2126p007.fits', 'tractor-0053m395.fits', 'tractor-0178m167.fits', 'tractor-1186p182.fits', 'tractor-1933m032.fits', 'tractor-1298m065.fits', 'tractor-0333m122.fits', 'tractor-1628m035.fits', 'tractor-1402p325.fits', 'tractor-0369p040.fits', 'tractor-3236m097.fits', 'tractor-2292p215.fits', 'tractor-2231p315.fits', 'tractor-1989p062.fits', 'tractor-1613p172.fits', 'tractor-3475p182.fits', 'tractor-0162m165.fits', 'tractor-1445p145.fits', 'tractor-0319m040.fits', 'tractor-3076m002.fits', 'tractor-0399m315.fits', 'tractor-0265p262.fits', 'tractor-1387p060.fits', 'tractor-0662m165.fits', 'tractor-1613m005.fits', 'tractor-0098m030.fits', 'tractor-0519m185.fits', 'tractor-2460p175.fits', 'tractor-0402m487.fits', 'tractor-2542p125.fits', 'tractor-2084p162.fits', 'tractor-2523p000.fits', 'tractor-0496p040.fits', 'tractor-0889m340.fits', 'tractor-2312p177.fits', 'tractor-2463p122.fits', 'tractor-0191p030.fits', 'tractor-1264m047.fits', 'tractor-0312p317.fits', 'tractor-1500m187.fits', 'tractor-0747m215.fits', 'tractor-0612m610.fits', 'tractor-0034m402.fits', 'tractor-0877m557.fits', 'tractor-0626m435.fits', 'tractor-0793m257.fits', 'tractor-3374p257.fits', 'tractor-2547p210.fits', 'tractor-2153p302.fits', 'tractor-2203p067.fits', 'tractor-0370m402.fits', 'tractor-1851p097.fits', 'tractor-0742m537.fits', 'tractor-0232m072.fits', 'tractor-2687p345.fits', 'tractor-0640m167.fits', 'tractor-1941p110.fits', 'tractor-0176m490.fits', 'tractor-2495p190.fits', 'tractor-2687p287.fits', 'tractor-0598m107.fits', 'tractor-2133m022.fits', 'tractor-0100p335.fits', 'tractor-0681m105.fits', 'tractor-1949p267.fits', 'tractor-3440p190.fits', 'tractor-3397p297.fits', 'tractor-3483p025.fits', 'tractor-1512p095.fits', 'tractor-1515p237.fits', 'tractor-1808m072.fits', 'tractor-1341p305.fits', 'tractor-2271p262.fits', 'tractor-2690p230.fits', 'tractor-2374p332.fits', 'tractor-3473p035.fits', 'tractor-1495p292.fits', 'tractor-1188m010.fits', 'tractor-0444m557.fits', 'tractor-1508p020.fits', 'tractor-2461p317.fits', 'tractor-0466p020.fits', 'tractor-1701p010.fits', 'tractor-1509p260.fits', 'tractor-0019p150.fits', 'tractor-1555p105.fits', 'tractor-0894m302.fits', 'tractor-1196p205.fits', 'tractor-3379p315.fits', 'tractor-0657m222.fits', 'tractor-3214m145.fits', 'tractor-0053m575.fits', 'tractor-3158m425.fits', 'tractor-0413m155.fits', 'tractor-0765m360.fits', 'tractor-1626m007.fits', 'tractor-0660m085.fits', 'tractor-0605m045.fits', 'tractor-1874p170.fits', 'tractor-2091m035.fits', 'tractor-3525p092.fits', 'tractor-1411p185.fits', 'tractor-1806p180.fits', 'tractor-0731m632.fits', 'tractor-1257p142.fits', 'tractor-0517m517.fits', 'tractor-0120m370.fits', 'tractor-1713p200.fits', 'tractor-0090m120.fits', 'tractor-3379m120.fits', 'tractor-2333p007.fits', 'tractor-0539m485.fits', 'tractor-3586p000.fits', 'tractor-1424p300.fits', 'tractor-3264p167.fits', 'tractor-1513p035.fits', 'tractor-1803p150.fits', 'tractor-1806p047.fits', 'tractor-3222p107.fits', 'tractor-1360p117.fits', 'tractor-1475m255.fits', 'tractor-0086p150.fits', 'tractor-0571m267.fits', 'tractor-0533m060.fits', 'tractor-3183p192.fits', 'tractor-3412m507.fits', 'tractor-3510p152.fits', 'tractor-2600p120.fits', 'tractor-0526m290.fits', 'tractor-1647p327.fits', 'tractor-0923m472.fits', 'tractor-3139p077.fits', 'tractor-1926m055.fits', 'tractor-0114m592.fits', 'tractor-1506p285.fits', 'tractor-2027p235.fits', 'tractor-2647p125.fits', 'tractor-0313m107.fits', 'tractor-3463p320.fits', 'tractor-0149m390.fits', 'tractor-0308p180.fits', 'tractor-0451m127.fits', 'tractor-1985p205.fits', 'tractor-2562p120.fits', 'tractor-0458m602.fits', 'tractor-0562m087.fits', 'tractor-1373p180.fits', 'tractor-1503p107.fits', 'tractor-0453m375.fits', 'tractor-3481m417.fits', 'tractor-2661p185.fits', 'tractor-1500p255.fits', 'tractor-0369m282.fits', 'tractor-2326p200.fits', 'tractor-3516m502.fits', 'tractor-1900p100.fits', 'tractor-0201m485.fits', 'tractor-1292p092.fits', 'tractor-0376m322.fits', 'tractor-3435m522.fits', 'tractor-2186p070.fits', 'tractor-0813m195.fits', 'tractor-1698p225.fits', 'tractor-0125p220.fits', 'tractor-2453p090.fits', 'tractor-0580m372.fits', 'tractor-3513p037.fits', 'tractor-1100p257.fits', 'tractor-3316p022.fits', 'tractor-3504p252.fits', 'tractor-2068p137.fits', 'tractor-3210m045.fits', 'tractor-3077m437.fits', 'tractor-1949p192.fits', 'tractor-0764m267.fits', 'tractor-2132p092.fits', 'tractor-1843m015.fits', 'tractor-0267m632.fits', 'tractor-2212p245.fits', 'tractor-0675m312.fits', 'tractor-1434p270.fits', 'tractor-0076p155.fits', 'tractor-0073p047.fits', 'tractor-2566p232.fits', 'tractor-0103p025.fits', 'tractor-3228m652.fits', 'tractor-3322m445.fits', 'tractor-0317p212.fits', 'tractor-2010p215.fits', 'tractor-1968p007.fits', 'tractor-1527m047.fits', 'tractor-0182p075.fits', 'tractor-2267m050.fits', 'tractor-0220p115.fits', 'tractor-0457m222.fits', 'tractor-2358p270.fits', 'tractor-0771m322.fits', 'tractor-0528m220.fits', 'tractor-3073m450.fits', 'tractor-0320p055.fits', 'tractor-3254m560.fits', 'tractor-3093p025.fits', 'tractor-0155m287.fits', 'tractor-0823m182.fits', 'tractor-0101p072.fits', 'tractor-1398m002.fits', 'tractor-0289m190.fits', 'tractor-1518m257.fits', 'tractor-3076m085.fits', 'tractor-3195p115.fits', 'tractor-0393m207.fits', 'tractor-2002p235.fits', 'tractor-0150m620.fits', 'tractor-2055p110.fits', 'tractor-1589p215.fits', 'tractor-2064p302.fits', 'tractor-1569p187.fits', 'tractor-0300p297.fits', 'tractor-3198m032.fits', 'tractor-1286m017.fits', 'tractor-0466p002.fits', 'tractor-0280m605.fits', 'tractor-1258p025.fits', 'tractor-0135p310.fits', 'tractor-3239m067.fits', 'tractor-3319p147.fits', 'tractor-3481m432.fits', 'tractor-0446m035.fits', 'tractor-0131m447.fits', 'tractor-2021p152.fits', 'tractor-3305p175.fits', 'tractor-0331p105.fits', 'tractor-1505p315.fits', 'tractor-2404p037.fits', 'tractor-3398m457.fits', 'tractor-2445p140.fits', 'tractor-2396p060.fits', 'tractor-0686m187.fits', 'tractor-1892p090.fits', 'tractor-1744p277.fits', 'tractor-0464p032.fits', 'tractor-0664m482.fits', 'tractor-0547m120.fits', 'tractor-1279p240.fits', 'tractor-2588p270.fits', 'tractor-3525p235.fits', 'tractor-1721p035.fits', 'tractor-2503p177.fits', 'tractor-1770p267.fits', 'tractor-0137p145.fits', 'tractor-0571m472.fits', 'tractor-1632m295.fits', 'tractor-1492p120.fits', 'tractor-0695m047.fits', 'tractor-0044m132.fits', 'tractor-2486p210.fits', 'tractor-3530m585.fits', 'tractor-1735p102.fits', 'tractor-0411p037.fits', 'tractor-1723m080.fits', 'tractor-0254p060.fits', 'tractor-0177m332.fits', 'tractor-3551m462.fits', 'tractor-1726p005.fits', 'tractor-2665p137.fits', 'tractor-0203p092.fits', 'tractor-1784p242.fits', 'tractor-3474p247.fits', 'tractor-2683p215.fits', 'tractor-0141m060.fits', 'tractor-3251m507.fits', 'tractor-0068p265.fits', 'tractor-3370m537.fits', 'tractor-3432p252.fits', 'tractor-3379p242.fits', 'tractor-1440p187.fits', 'tractor-3411m392.fits', 'tractor-0513m365.fits', 'tractor-0076p012.fits', 'tractor-0379m082.fits', 'tractor-0896m422.fits', 'tractor-3406p002.fits', 'tractor-0654m187.fits', 'tractor-1267m075.fits', 'tractor-3337p150.fits', 'tractor-1581m250.fits', 'tractor-1993p012.fits', 'tractor-3294p055.fits', 'tractor-3321m602.fits', 'tractor-1949p325.fits', 'tractor-0782m240.fits', 'tractor-0637m120.fits', 'tractor-2173m030.fits', 'tractor-1486p162.fits', 'tractor-0133p115.fits', 'tractor-2103p145.fits', 'tractor-0219p255.fits', 'tractor-2032p287.fits', 'tractor-3391p267.fits', 'tractor-1788m007.fits', 'tractor-3467p237.fits', 'tractor-0057m405.fits', 'tractor-3500p072.fits', 'tractor-2660p237.fits', 'tractor-0601m412.fits', 'tractor-2199p265.fits', 'tractor-0306p212.fits', 'tractor-1618p105.fits', 'tractor-3233m020.fits', 'tractor-3469p340.fits', 'tractor-0406p072.fits', 'tractor-3287p202.fits', 'tractor-1292m045.fits', 'tractor-0244m327.fits', 'tractor-2093p015.fits', 'tractor-0199p232.fits', 'tractor-0296m002.fits', 'tractor-0585m652.fits', 'tractor-2394p097.fits', 'tractor-3451m580.fits', 'tractor-0622m395.fits', 'tractor-2620p260.fits', 'tractor-0446m062.fits', 'tractor-1282p217.fits', 'tractor-3412m517.fits', 'tractor-2242m080.fits', 'tractor-1956p027.fits', 'tractor-1415m202.fits', 'tractor-0635m440.fits', 'tractor-2299p197.fits', 'tractor-3051m030.fits', 'tractor-1656p005.fits', 'tractor-0379m337.fits', 'tractor-2038m022.fits', 'tractor-0373m165.fits', 'tractor-0874m322.fits', 'tractor-0155p272.fits', 'tractor-1828m072.fits', 'tractor-2417p162.fits', 'tractor-0048m052.fits', 'tractor-1393p035.fits', 'tractor-0532m070.fits', 'tractor-0228p145.fits', 'tractor-1497m050.fits', 'tractor-0264m315.fits', 'tractor-1598p292.fits', 'tractor-1796m080.fits', 'tractor-1742p277.fits', 'tractor-0081m510.fits', 'tractor-1498m030.fits', 'tractor-1396m015.fits', 'tractor-3249p195.fits', 'tractor-1652p077.fits', 'tractor-3133m625.fits', 'tractor-3179m110.fits', 'tractor-3376m392.fits', 'tractor-0089m207.fits', 'tractor-0157p322.fits', 'tractor-0080m410.fits', 'tractor-0618m327.fits', 'tractor-3142p100.fits', 'tractor-1227m052.fits', 'tractor-1506m285.fits', 'tractor-0464m567.fits', 'tractor-3348p032.fits', 'tractor-3338p050.fits', 'tractor-1645m282.fits', 'tractor-2510p052.fits', 'tractor-2481p340.fits', 'tractor-2232p237.fits', 'tractor-3078m467.fits', 'tractor-0437m302.fits', 'tractor-2182m125.fits', 'tractor-0756m020.fits', 'tractor-1828p207.fits', 'tractor-1354p210.fits', 'tractor-0753m417.fits', 'tractor-3478m467.fits', 'tractor-3461p267.fits', 'tractor-0636m127.fits', 'tractor-0322m505.fits', 'tractor-1389p245.fits', 'tractor-1741m005.fits', 'tractor-0853m312.fits', 'tractor-2258p057.fits', 'tractor-0374m460.fits', 'tractor-0353m382.fits', 'tractor-0946m500.fits', 'tractor-2157p060.fits', 'tractor-0401m207.fits', 'tractor-2606p282.fits', 'tractor-1290p325.fits', 'tractor-3410p172.fits', 'tractor-2063p010.fits', 'tractor-1906p055.fits', 'tractor-1925p147.fits', 'tractor-0389p180.fits', 'tractor-3100p110.fits', 'tractor-2070p102.fits', 'tractor-2371p015.fits', 'tractor-3487m572.fits', 'tractor-0687m042.fits', 'tractor-3565p090.fits', 'tractor-1341p017.fits', 'tractor-3437p065.fits', 'tractor-0731m395.fits', 'tractor-1497p252.fits', 'tractor-0623m022.fits', 'tractor-3087m500.fits', 'tractor-3312m052.fits', 'tractor-1390m150.fits', 'tractor-2419p320.fits', 'tractor-0590m312.fits', 'tractor-0234m287.fits', 'tractor-0271m140.fits', 'tractor-0364m557.fits', 'tractor-0630m252.fits', 'tractor-0506p017.fits', 'tractor-2000m077.fits', 'tractor-1315p152.fits', 'tractor-3591p020.fits', 'tractor-0418p157.fits', 'tractor-0571m135.fits', 'tractor-1579m257.fits', 'tractor-2468p072.fits', 'tractor-0676m235.fits', 'tractor-2068p070.fits', 'tractor-0196m027.fits', 'tractor-0182m280.fits', 'tractor-1824p110.fits', 'tractor-1630p182.fits', 'tractor-2495p067.fits', 'tractor-0605m677.fits', 'tractor-0374m490.fits', 'tractor-0407m387.fits', 'tractor-0575m670.fits', 'tractor-0136m247.fits', 'tractor-0088p197.fits', 'tractor-0992m527.fits', 'tractor-0102p235.fits', 'tractor-3531p310.fits', 'tractor-0091m192.fits', 'tractor-3233p002.fits', 'tractor-2187p102.fits', 'tractor-1306m065.fits', 'tractor-3230m567.fits', 'tractor-2546p110.fits', 'tractor-2044p127.fits', 'tractor-3474p280.fits', 'tractor-0399m595.fits', 'tractor-0271m005.fits', 'tractor-0026p275.fits', 'tractor-0583m442.fits', 'tractor-1465m147.fits', 'tractor-0284m357.fits', 'tractor-1643p147.fits', 'tractor-1351p000.fits', 'tractor-1986m047.fits', 'tractor-0372p282.fits', 'tractor-3362p200.fits', 'tractor-0171p265.fits', 'tractor-0073m010.fits', 'tractor-1649p085.fits', 'tractor-3379m412.fits', 'tractor-2083m027.fits', 'tractor-3587m590.fits', 'tractor-0135m572.fits', 'tractor-2184p307.fits', 'tractor-3551m052.fits', 'tractor-0485m165.fits', 'tractor-0656m442.fits', 'tractor-1616m272.fits', 'tractor-3513p000.fits', 'tractor-0375p307.fits', 'tractor-1641p202.fits', 'tractor-2139p077.fits', 'tractor-1108p200.fits', 'tractor-2148p167.fits', 'tractor-0265m592.fits', 'tractor-0871m377.fits', 'tractor-1435p077.fits', 'tractor-2000p257.fits', 'tractor-3410m035.fits', 'tractor-2423p285.fits', 'tractor-1204m045.fits', 'tractor-2436p010.fits', 'tractor-1771m055.fits', 'tractor-1547m222.fits', 'tractor-1921p047.fits', 'tractor-1165p307.fits', 'tractor-0577m102.fits', 'tractor-1738p287.fits', 'tractor-1711p025.fits', 'tractor-0252m152.fits', 'tractor-0192m320.fits', 'tractor-2282p070.fits', 'tractor-3417p262.fits', 'tractor-0181m427.fits', 'tractor-1309m047.fits', 'tractor-3166m655.fits', 'tractor-0060m620.fits', 'tractor-0123p232.fits', 'tractor-2077p057.fits', 'tractor-1426m200.fits', 'tractor-0023p055.fits', 'tractor-0706m070.fits', 'tractor-0468m017.fits', 'tractor-1244p092.fits', 'tractor-2476p022.fits', 'tractor-0027m397.fits', 'tractor-2132m087.fits', 'tractor-0083p022.fits', 'tractor-0105p237.fits', 'tractor-2541p207.fits', 'tractor-0074p067.fits', 'tractor-2391p055.fits', 'tractor-0006p140.fits', 'tractor-3363m040.fits', 'tractor-0493m367.fits', 'tractor-3571m412.fits', 'tractor-3204m657.fits', 'tractor-1464p060.fits', 'tractor-0257m405.fits', 'tractor-3218p097.fits', 'tractor-0400m202.fits', 'tractor-1204p137.fits', 'tractor-0381p165.fits', 'tractor-0105m097.fits', 'tractor-0383p187.fits', 'tractor-0960m535.fits', 'tractor-1218p025.fits', 'tractor-1630p107.fits', 'tractor-0061m285.fits', 'tractor-0534m355.fits', 'tractor-0325m360.fits', 'tractor-3284m092.fits', 'tractor-0584m487.fits', 'tractor-1615m047.fits', 'tractor-3454m620.fits', 'tractor-0097p107.fits', 'tractor-1147p182.fits', 'tractor-1684p157.fits', 'tractor-0727m305.fits', 'tractor-3360m052.fits', 'tractor-3468p225.fits', 'tractor-3505p162.fits', 'tractor-0096p127.fits', 'tractor-1878m025.fits', 'tractor-3187p120.fits', 'tractor-0051p085.fits', 'tractor-2256p125.fits', 'tractor-3102m107.fits', 'tractor-0178m192.fits', 'tractor-3114m522.fits', 'tractor-2206p175.fits', 'tractor-0309p157.fits', 'tractor-3339m132.fits', 'tractor-3531p145.fits', 'tractor-1309m060.fits', 'tractor-1295p062.fits', 'tractor-2441p002.fits', 'tractor-0169p320.fits', 'tractor-2740p210.fits', 'tractor-3546m432.fits', 'tractor-0421m410.fits', 'tractor-3138p002.fits', 'tractor-1829p085.fits', 'tractor-1941m017.fits', 'tractor-0101m257.fits', 'tractor-0278m257.fits', 'tractor-0428m512.fits', 'tractor-2610p320.fits', 'tractor-3261m025.fits', 'tractor-1819p127.fits', 'tractor-0011p092.fits', 'tractor-1971m022.fits', 'tractor-1312p050.fits', 'tractor-3183p157.fits', 'tractor-2174m102.fits', 'tractor-3318p012.fits', 'tractor-2765p325.fits', 'tractor-3451m145.fits', 'tractor-1168p107.fits', 'tractor-0720m412.fits', 'tractor-0194p297.fits', 'tractor-3549p242.fits', 'tractor-0037m265.fits', 'tractor-2609p240.fits', 'tractor-0585m267.fits', 'tractor-0454m307.fits', 'tractor-0211m405.fits', 'tractor-0219p270.fits', 'tractor-1972p212.fits', 'tractor-0827m517.fits', 'tractor-2264m035.fits', 'tractor-2385p130.fits', 'tractor-0301p012.fits', 'tractor-3367p105.fits', 'tractor-3353p042.fits', 'tractor-0510m047.fits', 'tractor-0550m292.fits', 'tractor-0219m045.fits', 'tractor-1652p255.fits', 'tractor-0349m645.fits', 'tractor-0056p007.fits', 'tractor-1585m270.fits', 'tractor-0845m347.fits', 'tractor-0372p047.fits', 'tractor-1939m062.fits', 'tractor-2486p012.fits', 'tractor-1955p080.fits', 'tractor-0038m365.fits', 'tractor-2048m030.fits', 'tractor-1426p100.fits', 'tractor-3476p227.fits', 'tractor-2296p087.fits', 'tractor-0014m177.fits', 'tractor-1626p240.fits', 'tractor-3248m547.fits', 'tractor-0051m560.fits', 'tractor-1516m172.fits', 'tractor-3370m427.fits', 'tractor-0441m390.fits', 'tractor-0559m137.fits', 'tractor-1783p335.fits', 'tractor-0156m487.fits', 'tractor-1535m040.fits', 'tractor-1793m050.fits', 'tractor-0197m412.fits', 'tractor-3274m122.fits', 'tractor-0386m187.fits', 'tractor-0256p015.fits', 'tractor-1551p085.fits', 'tractor-0507m247.fits', 'tractor-2494p290.fits', 'tractor-0002m645.fits', 'tractor-2759p327.fits', 'tractor-0131p000.fits', 'tractor-1854p090.fits', 'tractor-0248m015.fits', 'tractor-3280p185.fits', 'tractor-2541p352.fits', 'tractor-1223p055.fits', 'tractor-1347p215.fits', 'tractor-0909m565.fits', 'tractor-1743p087.fits', 'tractor-2373p210.fits', 'tractor-1788p042.fits', 'tractor-3317p060.fits', 'tractor-1478p335.fits', 'tractor-2556p060.fits', 'tractor-3398p247.fits', 'tractor-3384m377.fits', 'tractor-0426p072.fits', 'tractor-0331m410.fits', 'tractor-1949p072.fits', 'tractor-0339m442.fits', 'tractor-0464m155.fits', 'tractor-3355m050.fits', 'tractor-0405p090.fits', 'tractor-0592m507.fits', 'tractor-1155p132.fits', 'tractor-3102p125.fits', 'tractor-0775m485.fits', 'tractor-1176p020.fits', 'tractor-0076p005.fits', 'tractor-2071p007.fits', 'tractor-3202m122.fits', 'tractor-0641m162.fits', 'tractor-0299m472.fits', 'tractor-0117m530.fits', 'tractor-1248p282.fits', 'tractor-1996m100.fits', 'tractor-1527p045.fits', 'tractor-3588p050.fits', 'tractor-2276p200.fits', 'tractor-0819m462.fits', 'tractor-0043m332.fits', 'tractor-0537m072.fits', 'tractor-0757m502.fits', 'tractor-3479m525.fits', 'tractor-2094m045.fits', 'tractor-1350p225.fits', 'tractor-3447m497.fits', 'tractor-2323p015.fits', 'tractor-1254p120.fits', 'tractor-3323p112.fits', 'tractor-0789m297.fits', 'tractor-3474m147.fits', 'tractor-3569m630.fits', 'tractor-1227p075.fits', 'tractor-0989m512.fits', 'tractor-0034p140.fits', 'tractor-0184m415.fits', 'tractor-2455p050.fits', 'tractor-0398p235.fits', 'tractor-1335p032.fits', 'tractor-0048p265.fits', 'tractor-2037p275.fits', 'tractor-0090p187.fits', 'tractor-0089m492.fits', 'tractor-1422m172.fits', 'tractor-2070p150.fits', 'tractor-3365m450.fits', 'tractor-3573m007.fits', 'tractor-0214m360.fits', 'tractor-1487p060.fits', 'tractor-1501p030.fits', 'tractor-1486p265.fits', 'tractor-2347p102.fits', 'tractor-3249m677.fits', 'tractor-1861m050.fits', 'tractor-0729m390.fits', 'tractor-1977p125.fits', 'tractor-3373m540.fits', 'tractor-2697p235.fits', 'tractor-0476m030.fits', 'tractor-1950p257.fits', 'tractor-3487m507.fits', 'tractor-1564p065.fits', 'tractor-1248p005.fits', 'tractor-1914p305.fits', 'tractor-3340p305.fits', 'tractor-2086p320.fits', 'tractor-2438p075.fits', 'tractor-1592m245.fits', 'tractor-1771m037.fits', 'tractor-3144m130.fits', 'tractor-0088m415.fits', 'tractor-3355m105.fits', 'tractor-2655p262.fits', 'tractor-0339m147.fits', 'tractor-3188m400.fits', 'tractor-0263m290.fits', 'tractor-0230p167.fits', 'tractor-3531m380.fits', 'tractor-0009m472.fits', 'tractor-3408m517.fits', 'tractor-0321p220.fits', 'tractor-0698m505.fits', 'tractor-0392p167.fits', 'tractor-0658m020.fits', 'tractor-3136m380.fits', 'tractor-1987p055.fits', 'tractor-3250m037.fits', 'tractor-3455p295.fits', 'tractor-1260m035.fits', 'tractor-2178p075.fits', 'tractor-0017p215.fits', 'tractor-3462m565.fits', 'tractor-1857p140.fits', 'tractor-0404m425.fits', 'tractor-0032m177.fits', 'tractor-3539p207.fits', 'tractor-1741m037.fits', 'tractor-0241p047.fits', 'tractor-0625m212.fits', 'tractor-2697p227.fits', 'tractor-0346m290.fits', 'tractor-3126m120.fits', 'tractor-0105m512.fits', 'tractor-0691m562.fits', 'tractor-1306m060.fits', 'tractor-3321p002.fits', 'tractor-1593m087.fits', 'tractor-0894m477.fits', 'tractor-0658m012.fits', 'tractor-2342p320.fits', 'tractor-3366m575.fits', 'tractor-1826p070.fits', 'tractor-1851p317.fits', 'tractor-0930m422.fits', 'tractor-2226m040.fits', 'tractor-1307p152.fits', 'tractor-2546p005.fits', 'tractor-2307p092.fits', 'tractor-0136m455.fits', 'tractor-0609m177.fits', 'tractor-2400p222.fits', 'tractor-1717m090.fits', 'tractor-2502p095.fits', 'tractor-3508p007.fits', 'tractor-1448m012.fits', 'tractor-1678p005.fits', 'tractor-1781p282.fits', 'tractor-0594m657.fits', 'tractor-3258m010.fits', 'tractor-1588m007.fits', 'tractor-0703m462.fits', 'tractor-1698p007.fits', 'tractor-0121m287.fits', 'tractor-1289p297.fits', 'tractor-1713m012.fits', 'tractor-0029m285.fits', 'tractor-2127m087.fits', 'tractor-0410m440.fits', 'tractor-2278p205.fits', 'tractor-0198p240.fits', 'tractor-3440p125.fits', 'tractor-2101p320.fits', 'tractor-1527m280.fits', 'tractor-3287m470.fits', 'tractor-3094m077.fits', 'tractor-1942p072.fits', 'tractor-2617p100.fits', 'tractor-0542m335.fits', 'tractor-3449m575.fits', 'tractor-0588m150.fits', 'tractor-3133m475.fits', 'tractor-1803p162.fits', 'tractor-3220p100.fits', 'tractor-0179m057.fits', 'tractor-2462p170.fits', 'tractor-2263m060.fits', 'tractor-2100p092.fits', 'tractor-3285m480.fits', 'tractor-1768p032.fits', 'tractor-1836p017.fits', 'tractor-0699m395.fits', 'tractor-0396m027.fits', 'tractor-0420m087.fits', 'tractor-1685m085.fits', 'tractor-0157p192.fits', 'tractor-3561m020.fits', 'tractor-3548m492.fits', 'tractor-0316p040.fits', 'tractor-3201m005.fits', 'tractor-3559p190.fits', 'tractor-3534m115.fits', 'tractor-0305p315.fits', 'tractor-0157m162.fits', 'tractor-0368p030.fits', 'tractor-3386p220.fits', 'tractor-3200m450.fits', 'tractor-1989p035.fits', 'tractor-2359p342.fits', 'tractor-0343m065.fits', 'tractor-0349m210.fits', 'tractor-1320p217.fits', 'tractor-0483p002.fits', 'tractor-0878m210.fits', 'tractor-3289p100.fits', 'tractor-0391p115.fits', 'tractor-2075m072.fits', 'tractor-2390p152.fits', 'tractor-0190m262.fits', 'tractor-0166p040.fits', 'tractor-0411m067.fits', 'tractor-3516p315.fits', 'tractor-3429p312.fits', 'tractor-0516m340.fits', 'tractor-3483p120.fits', 'tractor-0134m642.fits', 'tractor-1343p237.fits', 'tractor-1871m002.fits', 'tractor-1302p205.fits', 'tractor-0263m460.fits', 'tractor-3500p065.fits', 'tractor-0376m242.fits', 'tractor-3433m017.fits', 'tractor-1217p302.fits', 'tractor-0258m020.fits', 'tractor-1808m025.fits', 'tractor-0455p050.fits', 'tractor-3263p042.fits', 'tractor-0338m602.fits', 'tractor-1751m002.fits', 'tractor-3349m530.fits', 'tractor-1771p337.fits', 'tractor-2051p262.fits', 'tractor-2493p215.fits', 'tractor-1451p320.fits', 'tractor-1581p082.fits', 'tractor-0042m375.fits', 'tractor-0187p065.fits', 'tractor-2530p095.fits', 'tractor-0234p175.fits', 'tractor-0641m472.fits', 'tractor-3296m150.fits', 'tractor-0993m605.fits', 'tractor-0182p262.fits', 'tractor-1852p107.fits', 'tractor-3381p010.fits', 'tractor-3444m565.fits', 'tractor-1808p040.fits', 'tractor-3408p282.fits', 'tractor-3272p207.fits', 'tractor-3257p305.fits', 'tractor-2685p312.fits', 'tractor-1359m150.fits', 'tractor-3285p052.fits', 'tractor-3407m520.fits', 'tractor-1410p040.fits', 'tractor-3185p130.fits', 'tractor-0935m365.fits', 'tractor-0338m487.fits', 'tractor-2428p007.fits', 'tractor-1422m182.fits', 'tractor-0542m637.fits', 'tractor-3255p085.fits', 'tractor-3106m655.fits', 'tractor-1624p237.fits', 'tractor-0189p255.fits', 'tractor-3547m540.fits', 'tractor-2551p170.fits', 'tractor-0252p210.fits', 'tractor-2531p075.fits', 'tractor-3450m450.fits']\n"
     ]
    }
   ],
   "source": [
    "fn = [filename for filename in os.listdir(path) if '.fits' in filename]\n",
    "\n",
    "print(fn)"
   ],
   "metadata": {
    "collapsed": false,
    "pycharm": {
     "name": "#%%\n"
    }
   }
  },
  {
   "cell_type": "code",
   "execution_count": null,
   "outputs": [],
   "source": [],
   "metadata": {
    "collapsed": false,
    "pycharm": {
     "name": "#%%\n"
    }
   }
  }
 ],
 "metadata": {
  "kernelspec": {
   "display_name": "Python 3",
   "language": "python",
   "name": "python3"
  },
  "language_info": {
   "codemirror_mode": {
    "name": "ipython",
    "version": 2
   },
   "file_extension": ".py",
   "mimetype": "text/x-python",
   "name": "python",
   "nbconvert_exporter": "python",
   "pygments_lexer": "ipython2",
   "version": "2.7.6"
  }
 },
 "nbformat": 4,
 "nbformat_minor": 0
}