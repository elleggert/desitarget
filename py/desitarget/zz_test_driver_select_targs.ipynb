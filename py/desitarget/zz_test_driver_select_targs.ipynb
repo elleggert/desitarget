{
 "cells": [
  {
   "cell_type": "code",
   "execution_count": 1,
   "metadata": {
    "collapsed": true
   },
   "outputs": [],
   "source": [
    "from cuts import select_targets\n",
    "import pandas as pd\n",
    "import os\n",
    "\n"
   ]
  },
  {
   "cell_type": "code",
   "execution_count": 2,
   "outputs": [
    {
     "name": "stdout",
     "output_type": "stream",
     "text": [
      "2\n"
     ]
    }
   ],
   "source": [
    "\n",
    "filenames = []\n",
    "\n",
    "#path = f'/Volumes/{device}/bricks_data/{area}/'\n",
    "path = '../../../bricks_data/tractor/'\n",
    "\n",
    "for filename in os.listdir(path):\n",
    "    if '.fits' not in filename:\n",
    "        continue\n",
    "    filenames.append(f'{path}/{filename}')\n",
    "print(len(filenames))"
   ],
   "metadata": {
    "collapsed": false,
    "pycharm": {
     "name": "#%%\n"
    }
   }
  },
  {
   "cell_type": "code",
   "execution_count": 3,
   "outputs": [
    {
     "name": "stdout",
     "output_type": "stream",
     "text": [
      "INFO:cuts.py:3069:select_targets: Running on the main survey\n",
      "Entering Apply_Cuts\n",
      "Entering set target_bits\n",
      "DesiMask LRG_SOUTH        bit 16 mask 0x10000 - LRG cuts tuned for DECam data\n",
      "Tester: [65536     0]\n",
      "Entering Apply_Cuts\n",
      "Entering set target_bits\n",
      "DesiMask LRG_SOUTH        bit 16 mask 0x10000 - LRG cuts tuned for DECam data\n",
      "Tester: [65536     0]\n"
     ]
    }
   ],
   "source": [
    "res = select_targets(\n",
    "    infiles=filenames, numproc=1, qso_selection='colorcuts', nside=None, gaiasub=False,\n",
    "    tcnames=['LRG', 'ELG', 'QSO','LBG'], backup=False)\n"
   ],
   "metadata": {
    "collapsed": false,
    "pycharm": {
     "name": "#%%\n"
    }
   }
  },
  {
   "cell_type": "code",
   "execution_count": 4,
   "outputs": [
    {
     "name": "stdout",
     "output_type": "stream",
     "text": [
      "770\n"
     ]
    }
   ],
   "source": [
    "print(len(res))\n"
   ],
   "metadata": {
    "collapsed": false,
    "pycharm": {
     "name": "#%%\n"
    }
   }
  },
  {
   "cell_type": "code",
   "execution_count": 5,
   "outputs": [
    {
     "data": {
      "text/plain": "   RELEASE  BRICKID    BRICKNAME  BRICK_OBJID MORPHTYPE        RA  \\\n0     9010   328928  b'0001m002'            3    b'EXP'  0.000026   \n1     9010   328928  b'0001m002'           11    b'PSF'  0.000245   \n2     9010   328928  b'0001m002'           33    b'REX'  0.000937   \n3     9010   328928  b'0001m002'           37    b'REX'  0.001039   \n4     9010   328928  b'0001m002'           42    b'PSF'  0.001274   \n\n        RA_IVAR       DEC      DEC_IVAR  \\\n0  5.331747e+11 -0.276482  2.696239e+11   \n1  8.271378e+09 -0.271218  7.767335e+09   \n2  3.021019e+09 -0.315201  2.901988e+09   \n3  8.218941e+08 -0.344122  8.362084e+08   \n4  1.154110e+09 -0.227161  1.092042e+09   \n\n                                              DCHISQ  ...  BGS_TARGET  \\\n0  [16063.554, 19630.223, 20872.037, 21205.998, 2...  ...           0   \n1  [185.29068, 186.69328, 187.38716, 187.04614, 0.0]  ...           0   \n2  [113.57376, 114.75582, 115.10425, 114.87562, 0.0]  ...           0   \n3  [44.089417, 48.170387, 48.044777, 48.619884, 0.0]  ...           0   \n4                [34.99377, 32.75497, 0.0, 0.0, 0.0]  ...           0   \n\n   MWS_TARGET  SUBPRIORITY  OBSCONDITIONS  PRIORITY_INIT_DARK  \\\n0           0          0.0              1                3200   \n1           0          0.0              1                3400   \n2           0          0.0              1                3400   \n3           0          0.0              1                3400   \n4           0          0.0              1                3400   \n\n   NUMOBS_INIT_DARK  PRIORITY_INIT_BRIGHT  NUMOBS_INIT_BRIGHT  \\\n0                 2                    -1                  -1   \n1                 4                    -1                  -1   \n2                 4                    -1                  -1   \n3                 4                    -1                  -1   \n4                 4                    -1                  -1   \n\n   PRIORITY_INIT_BACKUP  NUMOBS_INIT_BACKUP  \n0                    -1                  -1  \n1                    -1                  -1  \n2                    -1                  -1  \n3                    -1                  -1  \n4                    -1                  -1  \n\n[5 rows x 111 columns]",
      "text/html": "<div>\n<style scoped>\n    .dataframe tbody tr th:only-of-type {\n        vertical-align: middle;\n    }\n\n    .dataframe tbody tr th {\n        vertical-align: top;\n    }\n\n    .dataframe thead th {\n        text-align: right;\n    }\n</style>\n<table border=\"1\" class=\"dataframe\">\n  <thead>\n    <tr style=\"text-align: right;\">\n      <th></th>\n      <th>RELEASE</th>\n      <th>BRICKID</th>\n      <th>BRICKNAME</th>\n      <th>BRICK_OBJID</th>\n      <th>MORPHTYPE</th>\n      <th>RA</th>\n      <th>RA_IVAR</th>\n      <th>DEC</th>\n      <th>DEC_IVAR</th>\n      <th>DCHISQ</th>\n      <th>...</th>\n      <th>BGS_TARGET</th>\n      <th>MWS_TARGET</th>\n      <th>SUBPRIORITY</th>\n      <th>OBSCONDITIONS</th>\n      <th>PRIORITY_INIT_DARK</th>\n      <th>NUMOBS_INIT_DARK</th>\n      <th>PRIORITY_INIT_BRIGHT</th>\n      <th>NUMOBS_INIT_BRIGHT</th>\n      <th>PRIORITY_INIT_BACKUP</th>\n      <th>NUMOBS_INIT_BACKUP</th>\n    </tr>\n  </thead>\n  <tbody>\n    <tr>\n      <th>0</th>\n      <td>9010</td>\n      <td>328928</td>\n      <td>b'0001m002'</td>\n      <td>3</td>\n      <td>b'EXP'</td>\n      <td>0.000026</td>\n      <td>5.331747e+11</td>\n      <td>-0.276482</td>\n      <td>2.696239e+11</td>\n      <td>[16063.554, 19630.223, 20872.037, 21205.998, 2...</td>\n      <td>...</td>\n      <td>0</td>\n      <td>0</td>\n      <td>0.0</td>\n      <td>1</td>\n      <td>3200</td>\n      <td>2</td>\n      <td>-1</td>\n      <td>-1</td>\n      <td>-1</td>\n      <td>-1</td>\n    </tr>\n    <tr>\n      <th>1</th>\n      <td>9010</td>\n      <td>328928</td>\n      <td>b'0001m002'</td>\n      <td>11</td>\n      <td>b'PSF'</td>\n      <td>0.000245</td>\n      <td>8.271378e+09</td>\n      <td>-0.271218</td>\n      <td>7.767335e+09</td>\n      <td>[185.29068, 186.69328, 187.38716, 187.04614, 0.0]</td>\n      <td>...</td>\n      <td>0</td>\n      <td>0</td>\n      <td>0.0</td>\n      <td>1</td>\n      <td>3400</td>\n      <td>4</td>\n      <td>-1</td>\n      <td>-1</td>\n      <td>-1</td>\n      <td>-1</td>\n    </tr>\n    <tr>\n      <th>2</th>\n      <td>9010</td>\n      <td>328928</td>\n      <td>b'0001m002'</td>\n      <td>33</td>\n      <td>b'REX'</td>\n      <td>0.000937</td>\n      <td>3.021019e+09</td>\n      <td>-0.315201</td>\n      <td>2.901988e+09</td>\n      <td>[113.57376, 114.75582, 115.10425, 114.87562, 0.0]</td>\n      <td>...</td>\n      <td>0</td>\n      <td>0</td>\n      <td>0.0</td>\n      <td>1</td>\n      <td>3400</td>\n      <td>4</td>\n      <td>-1</td>\n      <td>-1</td>\n      <td>-1</td>\n      <td>-1</td>\n    </tr>\n    <tr>\n      <th>3</th>\n      <td>9010</td>\n      <td>328928</td>\n      <td>b'0001m002'</td>\n      <td>37</td>\n      <td>b'REX'</td>\n      <td>0.001039</td>\n      <td>8.218941e+08</td>\n      <td>-0.344122</td>\n      <td>8.362084e+08</td>\n      <td>[44.089417, 48.170387, 48.044777, 48.619884, 0.0]</td>\n      <td>...</td>\n      <td>0</td>\n      <td>0</td>\n      <td>0.0</td>\n      <td>1</td>\n      <td>3400</td>\n      <td>4</td>\n      <td>-1</td>\n      <td>-1</td>\n      <td>-1</td>\n      <td>-1</td>\n    </tr>\n    <tr>\n      <th>4</th>\n      <td>9010</td>\n      <td>328928</td>\n      <td>b'0001m002'</td>\n      <td>42</td>\n      <td>b'PSF'</td>\n      <td>0.001274</td>\n      <td>1.154110e+09</td>\n      <td>-0.227161</td>\n      <td>1.092042e+09</td>\n      <td>[34.99377, 32.75497, 0.0, 0.0, 0.0]</td>\n      <td>...</td>\n      <td>0</td>\n      <td>0</td>\n      <td>0.0</td>\n      <td>1</td>\n      <td>3400</td>\n      <td>4</td>\n      <td>-1</td>\n      <td>-1</td>\n      <td>-1</td>\n      <td>-1</td>\n    </tr>\n  </tbody>\n</table>\n<p>5 rows × 111 columns</p>\n</div>"
     },
     "execution_count": 5,
     "metadata": {},
     "output_type": "execute_result"
    }
   ],
   "source": [
    "\n",
    "columns = []\n",
    "\n",
    "# Check for later --> is overhead of converting to PD needed? Could go via Recarray immediately, ask Boris whether a CSV is needed\n",
    "# Pipeline to go is: Run select_targets, convert to DF, extract desi_target bitcode, convert.\n",
    "# Add cuts for Lyman Beak Galaxies, dropouts\n",
    "# Extract SNRG --> ask Boris how\n",
    "cols = [('RELEASE', '>i2'), ('BRICKID', '>i4'), ('BRICKNAME', 'S8'), ('BRICK_OBJID', '>i4'), ('MORPHTYPE', 'S4'), ('RA', '>f8'), ('RA_IVAR', '>f4'), ('DEC', '>f8'), ('DEC_IVAR', '>f4'), ('DCHISQ', '>f4', (5,)), ('EBV', '>f4'), ('FLUX_G', '>f4'), ('FLUX_R', '>f4'), ('FLUX_Z', '>f4'), ('FLUX_IVAR_G', '>f4'), ('FLUX_IVAR_R', '>f4'), ('FLUX_IVAR_Z', '>f4'), ('MW_TRANSMISSION_G', '>f4'), ('MW_TRANSMISSION_R', '>f4'), ('MW_TRANSMISSION_Z', '>f4'), ('FRACFLUX_G', '>f4'), ('FRACFLUX_R', '>f4'), ('FRACFLUX_Z', '>f4'), ('FRACMASKED_G', '>f4'), ('FRACMASKED_R', '>f4'), ('FRACMASKED_Z', '>f4'), ('FRACIN_G', '>f4'), ('FRACIN_R', '>f4'), ('FRACIN_Z', '>f4'), ('NOBS_G', '>i2'), ('NOBS_R', '>i2'), ('NOBS_Z', '>i2'), ('PSFDEPTH_G', '>f4'), ('PSFDEPTH_R', '>f4'), ('PSFDEPTH_Z', '>f4'), ('GALDEPTH_G', '>f4'), ('GALDEPTH_R', '>f4'), ('GALDEPTH_Z', '>f4'), ('FLUX_W1', '>f4'), ('FLUX_W2', '>f4'), ('FLUX_W3', '>f4'), ('FLUX_W4', '>f4'), ('FLUX_IVAR_W1', '>f4'), ('FLUX_IVAR_W2', '>f4'), ('FLUX_IVAR_W3', '>f4'), ('FLUX_IVAR_W4', '>f4'), ('MW_TRANSMISSION_W1', '>f4'), ('MW_TRANSMISSION_W2', '>f4'), ('MW_TRANSMISSION_W3', '>f4'), ('MW_TRANSMISSION_W4', '>f4'), ('ALLMASK_G', '>i2'), ('ALLMASK_R', '>i2'), ('ALLMASK_Z', '>i2'), ('FIBERFLUX_G', '>f4'), ('FIBERFLUX_R', '>f4'), ('FIBERFLUX_Z', '>f4'), ('FIBERTOTFLUX_G', '>f4'), ('FIBERTOTFLUX_R', '>f4'), ('FIBERTOTFLUX_Z', '>f4'), ('REF_EPOCH', '>f4'), ('WISEMASK_W1', 'u1'), ('WISEMASK_W2', 'u1'), ('MASKBITS', '>i2'), ('LC_FLUX_W1', '>f4', (15,)), ('LC_FLUX_W2', '>f4', (15,)), ('LC_FLUX_IVAR_W1', '>f4', (15,)), ('LC_FLUX_IVAR_W2', '>f4', (15,)), ('LC_NOBS_W1', '>i2', (15,)), ('LC_NOBS_W2', '>i2', (15,)), ('LC_MJD_W1', '>f8', (15,)), ('LC_MJD_W2', '>f8', (15,)), ('SHAPE_R', '>f4'), ('SHAPE_E1', '>f4'), ('SHAPE_E2', '>f4'), ('SHAPE_R_IVAR', '>f4'), ('SHAPE_E1_IVAR', '>f4'), ('SHAPE_E2_IVAR', '>f4'), ('SERSIC', '>f4'), ('SERSIC_IVAR', '>f4'), ('REF_ID', '>i8'), ('REF_CAT', 'S2'), ('GAIA_PHOT_G_MEAN_MAG', '>f4'), ('GAIA_PHOT_G_MEAN_FLUX_OVER_ERROR', '>f4'), ('GAIA_PHOT_BP_MEAN_MAG', '>f4'), ('GAIA_PHOT_BP_MEAN_FLUX_OVER_ERROR', '>f4'), ('GAIA_PHOT_RP_MEAN_MAG', '>f4'), ('GAIA_PHOT_RP_MEAN_FLUX_OVER_ERROR', '>f4'), ('GAIA_PHOT_BP_RP_EXCESS_FACTOR', '>f4'), ('GAIA_ASTROMETRIC_EXCESS_NOISE', '>f4'), ('GAIA_DUPLICATED_SOURCE', '?'), ('GAIA_ASTROMETRIC_SIGMA5D_MAX', '>f4'), ('GAIA_ASTROMETRIC_PARAMS_SOLVED', 'i1'), ('PARALLAX', '>f4'), ('PARALLAX_IVAR', '>f4'), ('PMRA', '>f4'), ('PMRA_IVAR', '>f4'), ('PMDEC', '>f4'), ('PMDEC_IVAR', '>f4'), ('PHOTSYS', '<U1'), ('TARGETID', '>i8'), ('DESI_TARGET', '>i8'), ('BGS_TARGET', '>i8'), ('MWS_TARGET', '>i8'), ('SUBPRIORITY', '>f8'), ('OBSCONDITIONS', '>i8'), ('PRIORITY_INIT_DARK', '>i8'), ('NUMOBS_INIT_DARK', '>i8'), ('PRIORITY_INIT_BRIGHT', '>i8'), ('NUMOBS_INIT_BRIGHT', '>i8'), ('PRIORITY_INIT_BACKUP', '>i8'), ('NUMOBS_INIT_BACKUP', '>i8')]\n",
    "\n",
    "for c in cols:\n",
    "    columns.append(c[0])\n",
    "\n",
    "\n",
    "df = pd.DataFrame.from_records(data=list(res),columns=columns )\n",
    "\n",
    "\n",
    "\"\"\"Get the Signal-to-noise in g, r, z, W1 and W2 defined as the flux per\n",
    "        band divided by sigma (flux x sqrt of the inverse variance).\n",
    "        self.snr_g = self.flux_g * np.sqrt(self.flux_ivar_g)\n",
    "\n",
    "gsnr = objects['FLUX_G'] * np.sqrt(objects['FLUX_IVAR_G'])\n",
    "rsnr = objects['FLUX_R'] * np.sqrt(objects['FLUX_IVAR_R'])\n",
    "zsnr = objects['FLUX_Z'] * np.sqrt(objects['FLUX_IVAR_Z'])\n",
    "w1snr = objects['FLUX_W1'] * np.sqrt(objects['FLUX_IVAR_W1'])\n",
    "w2snr = objects['FLUX_W2'] * np.sqrt(objects['FLUX_IVAR_W2'])\"\"\"\n",
    "\n",
    "df.head()"
   ],
   "metadata": {
    "collapsed": false,
    "pycharm": {
     "name": "#%%\n"
    }
   }
  },
  {
   "cell_type": "code",
   "execution_count": 6,
   "outputs": [
    {
     "data": {
      "text/plain": "770"
     },
     "execution_count": 6,
     "metadata": {},
     "output_type": "execute_result"
    }
   ],
   "source": [
    "len(df)"
   ],
   "metadata": {
    "collapsed": false,
    "pycharm": {
     "name": "#%%\n"
    }
   }
  },
  {
   "cell_type": "code",
   "execution_count": 9,
   "outputs": [
    {
     "name": "stdout",
     "output_type": "stream",
     "text": [
      "[  65537      38      39  655394 1179778  262148  655458 1179842   65575\n",
      " 1441926  917606  917542  327685]\n"
     ]
    }
   ],
   "source": [
    "from desitarget.targetmask import desi_mask\n",
    "\n",
    "targets = df.DESI_TARGET.unique()\n",
    "\n",
    "print(targets)\n"
   ],
   "metadata": {
    "collapsed": false,
    "pycharm": {
     "name": "#%%\n"
    }
   }
  },
  {
   "cell_type": "code",
   "execution_count": 10,
   "outputs": [
    {
     "name": "stdout",
     "output_type": "stream",
     "text": [
      "([16, 0], ['LRG_SOUTH', 'LRG'], ['LRG cuts tuned for DECam data', 'LRG'])\n",
      "([5, 2, 1], ['ELG_LOP', 'QSO', 'ELG'], ['ELG at standard (ELG) priority', 'QSO', 'ELG'])\n",
      "([5, 2, 1, 0], ['ELG_LOP', 'QSO', 'ELG', 'LRG'], ['ELG at standard (ELG) priority', 'QSO', 'ELG', 'LRG'])\n",
      "([19, 17, 5, 1], ['ELG_LOP_SOUTH', 'ELG_SOUTH', 'ELG_LOP', 'ELG'], ['ELG at standard (ELG) priority tuned for DECam data', 'ELG cuts tuned for DECam data', 'ELG at standard (ELG) priority', 'ELG'])\n",
      "([20, 17, 7, 1], ['ELG_VLO_SOUTH', 'ELG_SOUTH', 'ELG_VLO', 'ELG'], ['Very-low priority ELG (filler) tuned for DECam data', 'ELG cuts tuned for DECam data', 'Very-low priority ELG (filler)', 'ELG'])\n",
      "([18, 2], ['QSO_SOUTH', 'QSO'], ['QSO cuts tuned for DECam data', 'QSO'])\n",
      "([19, 17, 6, 5, 1], ['ELG_LOP_SOUTH', 'ELG_SOUTH', 'ELG_HIP', 'ELG_LOP', 'ELG'], ['ELG at standard (ELG) priority tuned for DECam data', 'ELG cuts tuned for DECam data', 'ELG randomly increased to higher (LRG) priority', 'ELG at standard (ELG) priority', 'ELG'])\n",
      "([20, 17, 7, 6, 1], ['ELG_VLO_SOUTH', 'ELG_SOUTH', 'ELG_VLO', 'ELG_HIP', 'ELG'], ['Very-low priority ELG (filler) tuned for DECam data', 'ELG cuts tuned for DECam data', 'Very-low priority ELG (filler)', 'ELG randomly increased to higher (LRG) priority', 'ELG'])\n",
      "([16, 5, 2, 1, 0], ['LRG_SOUTH', 'ELG_LOP', 'QSO', 'ELG', 'LRG'], ['LRG cuts tuned for DECam data', 'ELG at standard (ELG) priority', 'QSO', 'ELG', 'LRG'])\n",
      "([20, 18, 17, 7, 2, 1], ['ELG_VLO_SOUTH', 'QSO_SOUTH', 'ELG_SOUTH', 'ELG_VLO', 'QSO', 'ELG'], ['Very-low priority ELG (filler) tuned for DECam data', 'QSO cuts tuned for DECam data', 'ELG cuts tuned for DECam data', 'Very-low priority ELG (filler)', 'QSO', 'ELG'])\n",
      "([19, 18, 17, 6, 5, 2, 1], ['ELG_LOP_SOUTH', 'QSO_SOUTH', 'ELG_SOUTH', 'ELG_HIP', 'ELG_LOP', 'QSO', 'ELG'], ['ELG at standard (ELG) priority tuned for DECam data', 'QSO cuts tuned for DECam data', 'ELG cuts tuned for DECam data', 'ELG randomly increased to higher (LRG) priority', 'ELG at standard (ELG) priority', 'QSO', 'ELG'])\n",
      "([19, 18, 17, 5, 2, 1], ['ELG_LOP_SOUTH', 'QSO_SOUTH', 'ELG_SOUTH', 'ELG_LOP', 'QSO', 'ELG'], ['ELG at standard (ELG) priority tuned for DECam data', 'QSO cuts tuned for DECam data', 'ELG cuts tuned for DECam data', 'ELG at standard (ELG) priority', 'QSO', 'ELG'])\n",
      "([18, 16, 2, 0], ['QSO_SOUTH', 'LRG_SOUTH', 'QSO', 'LRG'], ['QSO cuts tuned for DECam data', 'LRG cuts tuned for DECam data', 'QSO', 'LRG'])\n"
     ]
    }
   ],
   "source": [
    "def desitarget_bitcode_2_str(bitcode):\n",
    "\n",
    "    bina = (bin(bitcode))\n",
    "    bina = bina[2:]\n",
    "\n",
    "    desi_codes = []\n",
    "    categories = []\n",
    "    comments = []\n",
    "\n",
    "    i = len(bina)-1\n",
    "    for bit in bina:\n",
    "        if bit == '1':\n",
    "            desi_codes.append(i)\n",
    "            comments.append(desi_mask.comment(i))\n",
    "            categories.append(desi_mask.bitname(i))\n",
    "        i -= 1\n",
    "\n",
    "    return desi_codes,  categories, comments\n",
    "\n",
    "for obj in targets:\n",
    "    print(desitarget_bitcode_2_str(obj))"
   ],
   "metadata": {
    "collapsed": false,
    "pycharm": {
     "name": "#%%\n"
    }
   }
  },
  {
   "cell_type": "code",
   "execution_count": 13,
   "outputs": [
    {
     "name": "stdout",
     "output_type": "stream",
     "text": [
      "([5, 2, 1], ['ELG_LOP', 'QSO', 'ELG'], ['ELG at standard (ELG) priority', 'QSO', 'ELG'])\n"
     ]
    }
   ],
   "source": [
    "print(desitarget_bitcode_2_str(38))"
   ],
   "metadata": {
    "collapsed": false,
    "pycharm": {
     "name": "#%%\n"
    }
   }
  },
  {
   "cell_type": "code",
   "execution_count": 3,
   "outputs": [],
   "source": [
    "import os\n",
    "from cuts import select_targets\n",
    "import pandas as pd\n",
    "\n",
    "filenames = []\n",
    "\n",
    "#path = 'bricks_data/tractor'\n",
    "path = '/Volumes/Astrostick/bricks_data/south'\n"
   ],
   "metadata": {
    "collapsed": false,
    "pycharm": {
     "name": "#%%\n"
    }
   }
  },
  {
   "cell_type": "code",
   "execution_count": null,
   "outputs": [
    {
     "name": "stdout",
     "output_type": "stream",
     "text": [
      "INFO:cuts.py:3080:select_targets: Running on the main survey\n",
      "INFO:cuts.py:3197:_update_status: 20/1048 files; 0.9 secs/file; 0.3 total mins elapsed\n",
      "INFO:cuts.py:3197:_update_status: 40/1048 files; 0.9 secs/file; 0.6 total mins elapsed\n",
      "INFO:cuts.py:3197:_update_status: 60/1048 files; 0.9 secs/file; 0.9 total mins elapsed\n",
      "INFO:cuts.py:3197:_update_status: 80/1048 files; 0.9 secs/file; 1.2 total mins elapsed\n",
      "INFO:cuts.py:3197:_update_status: 100/1048 files; 0.9 secs/file; 1.5 total mins elapsed\n",
      "INFO:cuts.py:3197:_update_status: 120/1048 files; 0.9 secs/file; 1.8 total mins elapsed\n",
      "INFO:cuts.py:3197:_update_status: 140/1048 files; 0.9 secs/file; 2.1 total mins elapsed\n",
      "INFO:cuts.py:3197:_update_status: 160/1048 files; 0.9 secs/file; 2.4 total mins elapsed\n",
      "INFO:cuts.py:3197:_update_status: 180/1048 files; 0.9 secs/file; 2.7 total mins elapsed\n",
      "INFO:cuts.py:3197:_update_status: 200/1048 files; 0.9 secs/file; 3.0 total mins elapsed\n",
      "INFO:cuts.py:3197:_update_status: 220/1048 files; 0.9 secs/file; 3.3 total mins elapsed\n",
      "INFO:cuts.py:3197:_update_status: 240/1048 files; 0.9 secs/file; 3.6 total mins elapsed\n",
      "INFO:cuts.py:3197:_update_status: 260/1048 files; 0.9 secs/file; 3.9 total mins elapsed\n",
      "INFO:cuts.py:3197:_update_status: 280/1048 files; 0.9 secs/file; 4.2 total mins elapsed\n",
      "INFO:cuts.py:3197:_update_status: 300/1048 files; 0.9 secs/file; 4.5 total mins elapsed\n",
      "INFO:cuts.py:3197:_update_status: 320/1048 files; 0.9 secs/file; 4.8 total mins elapsed\n",
      "INFO:cuts.py:3197:_update_status: 340/1048 files; 0.9 secs/file; 5.2 total mins elapsed\n",
      "INFO:cuts.py:3197:_update_status: 360/1048 files; 0.9 secs/file; 5.5 total mins elapsed\n",
      "INFO:cuts.py:3197:_update_status: 380/1048 files; 0.9 secs/file; 5.8 total mins elapsed\n",
      "INFO:cuts.py:3197:_update_status: 400/1048 files; 0.9 secs/file; 6.1 total mins elapsed\n",
      "INFO:cuts.py:3197:_update_status: 420/1048 files; 0.9 secs/file; 6.4 total mins elapsed\n",
      "INFO:cuts.py:3197:_update_status: 440/1048 files; 0.9 secs/file; 6.6 total mins elapsed\n",
      "INFO:cuts.py:3197:_update_status: 460/1048 files; 0.9 secs/file; 6.9 total mins elapsed\n",
      "INFO:cuts.py:3197:_update_status: 480/1048 files; 0.9 secs/file; 7.2 total mins elapsed\n",
      "INFO:cuts.py:3197:_update_status: 500/1048 files; 0.9 secs/file; 7.5 total mins elapsed\n",
      "INFO:cuts.py:3197:_update_status: 520/1048 files; 0.9 secs/file; 7.8 total mins elapsed\n",
      "INFO:cuts.py:3197:_update_status: 540/1048 files; 0.9 secs/file; 8.1 total mins elapsed\n",
      "INFO:cuts.py:3197:_update_status: 560/1048 files; 0.9 secs/file; 8.4 total mins elapsed\n",
      "INFO:cuts.py:3197:_update_status: 580/1048 files; 0.9 secs/file; 8.7 total mins elapsed\n",
      "INFO:cuts.py:3197:_update_status: 600/1048 files; 0.9 secs/file; 8.9 total mins elapsed\n",
      "INFO:cuts.py:3197:_update_status: 620/1048 files; 0.9 secs/file; 9.2 total mins elapsed\n",
      "INFO:cuts.py:3197:_update_status: 640/1048 files; 0.9 secs/file; 9.5 total mins elapsed\n",
      "INFO:cuts.py:3197:_update_status: 660/1048 files; 0.9 secs/file; 9.8 total mins elapsed\n",
      "INFO:cuts.py:3197:_update_status: 680/1048 files; 0.9 secs/file; 10.1 total mins elapsed\n",
      "INFO:cuts.py:3197:_update_status: 700/1048 files; 0.9 secs/file; 10.4 total mins elapsed\n",
      "INFO:cuts.py:3197:_update_status: 720/1048 files; 0.9 secs/file; 10.7 total mins elapsed\n",
      "INFO:cuts.py:3197:_update_status: 740/1048 files; 0.9 secs/file; 11.0 total mins elapsed\n",
      "INFO:cuts.py:3197:_update_status: 760/1048 files; 0.9 secs/file; 11.3 total mins elapsed\n",
      "INFO:cuts.py:3197:_update_status: 780/1048 files; 0.9 secs/file; 11.6 total mins elapsed\n",
      "INFO:cuts.py:3197:_update_status: 800/1048 files; 0.9 secs/file; 11.9 total mins elapsed\n",
      "INFO:cuts.py:3197:_update_status: 820/1048 files; 0.9 secs/file; 12.2 total mins elapsed\n",
      "INFO:cuts.py:3197:_update_status: 840/1048 files; 0.9 secs/file; 12.5 total mins elapsed\n",
      "INFO:cuts.py:3197:_update_status: 860/1048 files; 0.9 secs/file; 12.8 total mins elapsed\n",
      "INFO:cuts.py:3197:_update_status: 880/1048 files; 0.9 secs/file; 13.1 total mins elapsed\n",
      "INFO:cuts.py:3197:_update_status: 900/1048 files; 0.9 secs/file; 13.4 total mins elapsed\n",
      "INFO:cuts.py:3197:_update_status: 920/1048 files; 0.9 secs/file; 13.7 total mins elapsed\n",
      "INFO:cuts.py:3197:_update_status: 940/1048 files; 0.9 secs/file; 13.9 total mins elapsed\n",
      "INFO:cuts.py:3197:_update_status: 960/1048 files; 0.9 secs/file; 14.3 total mins elapsed\n",
      "INFO:cuts.py:3197:_update_status: 980/1048 files; 0.9 secs/file; 14.6 total mins elapsed\n",
      "INFO:cuts.py:3197:_update_status: 1000/1048 files; 0.9 secs/file; 14.9 total mins elapsed\n"
     ]
    }
   ],
   "source": [
    "\n",
    "for filename in os.listdir(path):\n",
    "    if '.fits' not in filename:\n",
    "        continue\n",
    "    filenames.append(f'{path}/{filename}')\n",
    "\n",
    "res = select_targets(\n",
    "    infiles=filenames, numproc=1, qso_selection='colorcuts', nside=None, gaiasub=False,\n",
    "    tcnames=[\"LRG\",\"ELG\",\"QSO\",\"LBG\"], backup=False)\n",
    "\n",
    "cols = [('RELEASE', '>i2'), ('BRICKID', '>i4'), ('BRICKNAME', 'S8'), ('BRICK_OBJID', '>i4'), ('MORPHTYPE', 'S4'),\n",
    "        ('RA', '>f8'), ('RA_IVAR', '>f4'), ('DEC', '>f8'), ('DEC_IVAR', '>f4'), ('DCHISQ', '>f4', (5,)), ('EBV', '>f4'),\n",
    "        ('FLUX_G', '>f4'), ('FLUX_R', '>f4'), ('FLUX_Z', '>f4'), ('FLUX_IVAR_G', '>f4'), ('FLUX_IVAR_R', '>f4'),\n",
    "        ('FLUX_IVAR_Z', '>f4'), ('MW_TRANSMISSION_G', '>f4'), ('MW_TRANSMISSION_R', '>f4'),\n",
    "        ('MW_TRANSMISSION_Z', '>f4'), ('FRACFLUX_G', '>f4'), ('FRACFLUX_R', '>f4'), ('FRACFLUX_Z', '>f4'),\n",
    "        ('FRACMASKED_G', '>f4'), ('FRACMASKED_R', '>f4'), ('FRACMASKED_Z', '>f4'), ('FRACIN_G', '>f4'),\n",
    "        ('FRACIN_R', '>f4'), ('FRACIN_Z', '>f4'), ('NOBS_G', '>i2'), ('NOBS_R', '>i2'), ('NOBS_Z', '>i2'),\n",
    "        ('PSFDEPTH_G', '>f4'), ('PSFDEPTH_R', '>f4'), ('PSFDEPTH_Z', '>f4'), ('GALDEPTH_G', '>f4'),\n",
    "        ('GALDEPTH_R', '>f4'), ('GALDEPTH_Z', '>f4'), ('FLUX_W1', '>f4'), ('FLUX_W2', '>f4'), ('FLUX_W3', '>f4'),\n",
    "        ('FLUX_W4', '>f4'), ('FLUX_IVAR_W1', '>f4'), ('FLUX_IVAR_W2', '>f4'), ('FLUX_IVAR_W3', '>f4'),\n",
    "        ('FLUX_IVAR_W4', '>f4'), ('MW_TRANSMISSION_W1', '>f4'), ('MW_TRANSMISSION_W2', '>f4'),\n",
    "        ('MW_TRANSMISSION_W3', '>f4'), ('MW_TRANSMISSION_W4', '>f4'), ('ALLMASK_G', '>i2'), ('ALLMASK_R', '>i2'),\n",
    "        ('ALLMASK_Z', '>i2'), ('FIBERFLUX_G', '>f4'), ('FIBERFLUX_R', '>f4'), ('FIBERFLUX_Z', '>f4'),\n",
    "        ('FIBERTOTFLUX_G', '>f4'), ('FIBERTOTFLUX_R', '>f4'), ('FIBERTOTFLUX_Z', '>f4'), ('REF_EPOCH', '>f4'),\n",
    "        ('WISEMASK_W1', 'u1'), ('WISEMASK_W2', 'u1'), ('MASKBITS', '>i2'), ('LC_FLUX_W1', '>f4', (15,)),\n",
    "        ('LC_FLUX_W2', '>f4', (15,)), ('LC_FLUX_IVAR_W1', '>f4', (15,)), ('LC_FLUX_IVAR_W2', '>f4', (15,)),\n",
    "        ('LC_NOBS_W1', '>i2', (15,)), ('LC_NOBS_W2', '>i2', (15,)), ('LC_MJD_W1', '>f8', (15,)),\n",
    "        ('LC_MJD_W2', '>f8', (15,)), ('SHAPE_R', '>f4'), ('SHAPE_E1', '>f4'), ('SHAPE_E2', '>f4'),\n",
    "        ('SHAPE_R_IVAR', '>f4'), ('SHAPE_E1_IVAR', '>f4'), ('SHAPE_E2_IVAR', '>f4'), ('SERSIC', '>f4'),\n",
    "        ('SERSIC_IVAR', '>f4'), ('REF_ID', '>i8'), ('REF_CAT', 'S2'), ('GAIA_PHOT_G_MEAN_MAG', '>f4'),\n",
    "        ('GAIA_PHOT_G_MEAN_FLUX_OVER_ERROR', '>f4'), ('GAIA_PHOT_BP_MEAN_MAG', '>f4'),\n",
    "        ('GAIA_PHOT_BP_MEAN_FLUX_OVER_ERROR', '>f4'), ('GAIA_PHOT_RP_MEAN_MAG', '>f4'),\n",
    "        ('GAIA_PHOT_RP_MEAN_FLUX_OVER_ERROR', '>f4'), ('GAIA_PHOT_BP_RP_EXCESS_FACTOR', '>f4'),\n",
    "        ('GAIA_ASTROMETRIC_EXCESS_NOISE', '>f4'), ('GAIA_DUPLICATED_SOURCE', '?'),\n",
    "        ('GAIA_ASTROMETRIC_SIGMA5D_MAX', '>f4'), ('GAIA_ASTROMETRIC_PARAMS_SOLVED', 'i1'), ('PARALLAX', '>f4'),\n",
    "        ('PARALLAX_IVAR', '>f4'), ('PMRA', '>f4'), ('PMRA_IVAR', '>f4'), ('PMDEC', '>f4'), ('PMDEC_IVAR', '>f4'),\n",
    "        ('PHOTSYS', '<U1'), ('TARGETID', '>i8'), ('DESI_TARGET', '>i8'), ('BGS_TARGET', '>i8'), ('MWS_TARGET', '>i8'),\n",
    "        ('SUBPRIORITY', '>f8'), ('OBSCONDITIONS', '>i8'), ('PRIORITY_INIT_DARK', '>i8'), ('NUMOBS_INIT_DARK', '>i8'),\n",
    "        ('PRIORITY_INIT_BRIGHT', '>i8'), ('NUMOBS_INIT_BRIGHT', '>i8'), ('PRIORITY_INIT_BACKUP', '>i8'),\n",
    "        ('NUMOBS_INIT_BACKUP', '>i8')]\n",
    "\n",
    "columns = [c[0] for c in cols]\n",
    "\n",
    "df = pd.DataFrame.from_records(data=list(res), columns=columns)\n",
    "\n",
    "targets = df.DESI_TARGET.unique()\n",
    "\n",
    "from targetmask import desi_mask\n",
    "\n",
    "\n",
    "def desitarget_bitcode_2_str(bitcode):\n",
    "    bina = (bin(bitcode))\n",
    "    bina = bina[2:]\n",
    "\n",
    "    desi_codes = set()\n",
    "\n",
    "    i = len(bina) - 1\n",
    "    for bit in bina:\n",
    "        if bit == '1':\n",
    "            desi_codes.add(i)\n",
    "        i -= 1\n",
    "\n",
    "    return desi_codes\n",
    "\n",
    "\n",
    "def desi_code_2_label(code):\n",
    "\n",
    "    LRG_CODES = {0, 8, 16}\n",
    "    ELG_CODES = {1, 5, 6, 7, 9, 11, 12, 17, 19, 20}\n",
    "    QSO_CODES = {2, 4, 10, 18}\n",
    "    GLBG_CODE = {38}\n",
    "    RLBG_CODE = {39}\n",
    "\n",
    "    lrg = bool(LRG_CODES & code)\n",
    "\n",
    "    elg = bool(ELG_CODES & code)\n",
    "\n",
    "    qso = bool(QSO_CODES & code)\n",
    "\n",
    "    glbg = bool(GLBG_CODE & code)\n",
    "\n",
    "    rlbg = bool(RLBG_CODE & code)\n",
    "\n",
    "    return lrg, elg, qso, glbg, rlbg\n",
    "\n",
    "\n",
    "def desi_code_2_cat(bitcode):\n",
    "    return desi_code_2_label(desitarget_bitcode_2_str(bitcode))\n",
    "\n",
    "\n",
    "for obj in targets:\n",
    "    print(desitarget_bitcode_2_str(obj))\n",
    "\n",
    "cats = df.DESI_TARGET.apply(desi_code_2_cat)\n",
    "\n",
    "print(type(cats[0]))\n",
    "df['LRG'], df['ELG'], df['QSO'], df['GLBG'], df['RLBG'] = zip(*cats)\n",
    "\n",
    "print((df.head()))\n"
   ],
   "metadata": {
    "collapsed": false,
    "pycharm": {
     "name": "#%%\n",
     "is_executing": true
    }
   }
  },
  {
   "cell_type": "code",
   "execution_count": null,
   "outputs": [],
   "source": [
    "print(f\"No of LRG       : {len(df[df['LRG'] == True])}\")\n",
    "print(f\"No of ELG       : {len(df[df['ELG'] == True])}\")\n",
    "print(f\"No of QSO       : {len(df[df['QSO'] == True])}\")\n",
    "print(f\"No of G Dropouts: {len(df[df['GLBG'] == True])}\")\n",
    "print(f\"No of R Dropouts: {len(df[df['RLBG'] == True])}\")"
   ],
   "metadata": {
    "collapsed": false,
    "pycharm": {
     "name": "#%%\n"
    }
   }
  }
 ],
 "metadata": {
  "kernelspec": {
   "display_name": "Python 3",
   "language": "python",
   "name": "python3"
  },
  "language_info": {
   "codemirror_mode": {
    "name": "ipython",
    "version": 2
   },
   "file_extension": ".py",
   "mimetype": "text/x-python",
   "name": "python",
   "nbconvert_exporter": "python",
   "pygments_lexer": "ipython2",
   "version": "2.7.6"
  }
 },
 "nbformat": 4,
 "nbformat_minor": 0
}